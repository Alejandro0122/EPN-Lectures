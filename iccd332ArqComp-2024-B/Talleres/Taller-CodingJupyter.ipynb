{
 "cells": [
  {
   "cell_type": "markdown",
   "id": "73a28911-09ea-44d8-b1dd-422e625d07f1",
   "metadata": {},
   "source": [
    "## Clase de revisión Jupyter\n",
    "Fecha: 2024-07-03\n",
    "\n",
    "Nombre de los integrantes:\n",
    "\n",
    "- estudiante1\n",
    "- estudiante2\n",
    "- estudiante3"
   ]
  },
  {
   "cell_type": "markdown",
   "id": "842eeb6b-ef6a-471b-b066-2d4b5a76014a",
   "metadata": {},
   "source": [
    "## Declaración de Funciones\n",
    "\n",
    "Declarar funciones que calculen el perímetro y el área de:\n",
    "\n",
    "1. cuadrado\n",
    "2. rectángulo\n",
    "3. círculo"
   ]
  },
  {
   "cell_type": "markdown",
   "id": "4c34e611-40c6-42bc-82c6-256b2b425b03",
   "metadata": {},
   "source": [
    "### Funciones de Perímetro\n",
    "\n",
    "El perímetro del círculo es $\\pi \\times r^2$"
   ]
  },
  {
   "cell_type": "code",
   "execution_count": 3,
   "id": "54ce633b-2c76-4f7f-a00d-2b198a06bb3a",
   "metadata": {},
   "outputs": [],
   "source": [
    "import math\n",
    "\n",
    "def perimetro_cuadrado(lado):\n",
    "    return 4*lado\n",
    "\n",
    "def perimetro_rectangulo(base, altura):\n",
    "    return base*altura\n",
    "\n",
    "def perimetro_circulo(radio):\n",
    "    return math.pi*radio**2"
   ]
  },
  {
   "cell_type": "markdown",
   "id": "038e856e-652d-4ef6-8243-fe11a870fafc",
   "metadata": {},
   "source": [
    "### Funciones de Área"
   ]
  },
  {
   "cell_type": "code",
   "execution_count": 7,
   "id": "4b2a91da-124f-4bdb-9d9d-662aaedc5e22",
   "metadata": {},
   "outputs": [],
   "source": [
    "def area_cuadrado(lado):\n",
    "    pass"
   ]
  },
  {
   "cell_type": "markdown",
   "id": "02a773e1-0020-4318-b335-409b2e59f75c",
   "metadata": {},
   "source": [
    "## Ejercicio Perímetros\n",
    "\n",
    "1. Calcular el perímetro de un cuadrado de lado 5\n",
    "2. Calcular el perímetro de un rectángulo de base 3 y altura 5\n",
    "3. Calcular el perímetro de un círculo de radio 3.5"
   ]
  },
  {
   "cell_type": "code",
   "execution_count": 9,
   "id": "c9044e0b-e3fb-484e-98b0-c346d27f75c6",
   "metadata": {},
   "outputs": [
    {
     "data": {
      "text/plain": [
       "20"
      ]
     },
     "execution_count": 9,
     "metadata": {},
     "output_type": "execute_result"
    }
   ],
   "source": [
    "res1 = perimetro_cuadrado(5)\n",
    "res1"
   ]
  },
  {
   "cell_type": "code",
   "execution_count": 10,
   "id": "1ca08756-7d1e-4db3-9afb-29802da6fbf9",
   "metadata": {},
   "outputs": [
    {
     "name": "stdout",
     "output_type": "stream",
     "text": [
      "el perimetro del rectangulo de lados 3 y 5 es 15\n"
     ]
    }
   ],
   "source": [
    "res2 = perimetro_rectangulo(3,5)\n",
    "print(f\"el perimetro del rectangulo de lados 3 y 5 es {res2}\")"
   ]
  },
  {
   "cell_type": "code",
   "execution_count": 4,
   "id": "ed41de94-973d-4d19-8240-9fa52b35cd95",
   "metadata": {},
   "outputs": [
    {
     "data": {
      "text/plain": [
       "38.48451000647496"
      ]
     },
     "execution_count": 4,
     "metadata": {},
     "output_type": "execute_result"
    }
   ],
   "source": [
    "perimetro_circulo(radio=3.5)"
   ]
  }
 ],
 "metadata": {
  "kernelspec": {
   "display_name": "Python 3 (ipykernel)",
   "language": "python",
   "name": "python3"
  },
  "language_info": {
   "codemirror_mode": {
    "name": "ipython",
    "version": 3
   },
   "file_extension": ".py",
   "mimetype": "text/x-python",
   "name": "python",
   "nbconvert_exporter": "python",
   "pygments_lexer": "ipython3",
   "version": "3.12.3"
  }
 },
 "nbformat": 4,
 "nbformat_minor": 5
}
