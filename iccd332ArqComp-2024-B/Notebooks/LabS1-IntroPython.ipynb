{
 "cells": [
  {
   "cell_type": "markdown",
   "id": "7f0c7dac-6d54-4dcb-b446-bbd9e868e01f",
   "metadata": {},
   "source": [
    "# Intro a Python\n",
    "\n",
    "Nombre: LeninGF\n",
    "\n",
    "Fecha: 2024-05-08\n",
    "\n",
    "## Python\n",
    "\n",
    "Es un lenguaje de programación que usa principalmente la **identación** para escribir programas. Como todo lenguaje dispone de palabras reservadas que son propias del interprete de Python como *def*, *True*, *False*, *int*, *dict*, *list*, etc. Dado que este lenguaje no utiliza ; o  {} para encerrar al código es importante que se respete la identación. Así, para escribir el código de una función o de un lazo for, éste debe quedar tabulado con respecto al margen. Por ejemplo:\n",
    "\n",
    "\n"
   ]
  },
  {
   "cell_type": "code",
   "execution_count": 6,
   "id": "be4a0117",
   "metadata": {},
   "outputs": [
    {
     "name": "stdout",
     "output_type": "stream",
     "text": [
      "0\n",
      "1\n",
      "4\n",
      "9\n",
      "16\n",
      "25\n",
      "36\n",
      "49\n",
      "64\n",
      "81\n",
      "Cuánto es i? 10\n",
      "Hola 0\n",
      "Hola 1\n",
      "Hola 2\n",
      "Hola 3\n",
      "Hola 4\n",
      "Hola 5\n",
      "Hola 6\n",
      "Hola 7\n",
      "Hola 8\n",
      "Hola 9\n"
     ]
    }
   ],
   "source": [
    "def saludar(nombre):\n",
    "    print(f\"Hola {nombre}\")\n",
    "\n",
    "for i in range(10):\n",
    "    print(i**2)\n",
    "\n",
    "i+=1\n",
    "print(\"Cuánto es i?\", i)\n",
    "for i in range(10):\n",
    "    saludar(str(i))"
   ]
  },
  {
   "cell_type": "markdown",
   "id": "9489a5bc",
   "metadata": {},
   "source": [
    "La función saludar y el bucle for se ejecutan uno después del otro. El código interno tanto de la función como del bucle se encuentra tabulado. En cambio, la sentencia `i+=1` no pertenece ni a la función ni al lazo y se ejecuta por separado. De igual manera con el `print(\"Cuánto es i?\", i)`. Finalmente, en el último lazo for del ejemplo se llama la función saludar y se cambia el tipo de dato de entero a str"
   ]
  },
  {
   "cell_type": "markdown",
   "id": "b7b91014-0b72-4477-87f7-dbbd99608039",
   "metadata": {},
   "source": [
    "## Tipos de datos\n",
    "\n",
    "Los principales tipos son:\n",
    "\n",
    "- booleano\n",
    "- entero\n",
    "- flotante\n",
    "- lista\n",
    "- diccionario\n",
    "- tupla"
   ]
  },
  {
   "cell_type": "code",
   "execution_count": 4,
   "id": "7157cd56-071f-462a-904d-a4f8436c3498",
   "metadata": {},
   "outputs": [
    {
     "name": "stdout",
     "output_type": "stream",
     "text": [
      "140259344933128\n",
      "5\n"
     ]
    }
   ],
   "source": [
    "# booleano\n",
    "bandera = True\n",
    "# entero\n",
    "entero = 5\n",
    "print(id(entero)) # imprime la direccion\n",
    "print(entero)\n"
   ]
  },
  {
   "cell_type": "code",
   "execution_count": 7,
   "id": "3396630a-69c5-40bc-baac-275d1638045e",
   "metadata": {},
   "outputs": [
    {
     "name": "stdout",
     "output_type": "stream",
     "text": [
      "3.141592653589793\n"
     ]
    }
   ],
   "source": [
    "# float\n",
    "import math\n",
    "pi = math.pi\n",
    "print(pi)"
   ]
  },
  {
   "cell_type": "code",
   "execution_count": 8,
   "id": "2f7a67ee-850d-4cb6-9fb3-24f2bc8888a8",
   "metadata": {},
   "outputs": [
    {
     "data": {
      "text/plain": [
       "[['a', 'e', 'i', 'o', 'u'], 'Lenin', 3.141592653589793]"
      ]
     },
     "execution_count": 8,
     "metadata": {},
     "output_type": "execute_result"
    }
   ],
   "source": [
    "# lista\n",
    "vocales = ['a', 'e', 'i', 'o', \"u\"]\n",
    "\n",
    "# string\n",
    "nombre = \"Lenin\"\n",
    "apellido = 'Falconi'\n",
    "lista_compl = [vocales, nombre, pi]\n",
    "lista_compl"
   ]
  },
  {
   "cell_type": "markdown",
   "id": "7a22ccc0-1e8b-42ac-a3d4-3857bfaee11d",
   "metadata": {},
   "source": [
    "## Operadores Matemáticos\n",
    "Son las operaciones típicas: +,-,*,**,/,//\n"
   ]
  },
  {
   "cell_type": "code",
   "execution_count": 13,
   "id": "24ad6287-1664-42c5-b1e9-67d00af19d31",
   "metadata": {},
   "outputs": [
    {
     "name": "stdout",
     "output_type": "stream",
     "text": [
      "8.0\n",
      "2.0\n",
      "15.0\n",
      "la division de 5.0 y 3.0 es 1.67\n",
      "1.0\n",
      "2.0\n",
      "125.0\n"
     ]
    }
   ],
   "source": [
    "a = 5.0\n",
    "b = 3.0\n",
    "print(a+b)\n",
    "print(a-b)\n",
    "print(a*b)\n",
    "print(f\"la division de {a} y {b} es {a/b:.2f}\")\n",
    "print(a//b) # division entera\n",
    "print(a%b) # residuo\n",
    "print(a**b)"
   ]
  },
  {
   "cell_type": "markdown",
   "id": "9a5e5deb-8489-48ff-aeac-1709265418a2",
   "metadata": {},
   "source": [
    "## Operadores Logicos\n",
    "\n",
    "Los operadores lógicos son:\n",
    "- and\n",
    "- or\n"
   ]
  },
  {
   "cell_type": "code",
   "execution_count": 15,
   "id": "26677c1b-bd96-4037-b2d7-4c35dc1d6019",
   "metadata": {},
   "outputs": [
    {
     "data": {
      "text/plain": [
       "True"
      ]
     },
     "execution_count": 15,
     "metadata": {},
     "output_type": "execute_result"
    }
   ],
   "source": [
    "5==3 or 5==5"
   ]
  },
  {
   "cell_type": "code",
   "execution_count": 16,
   "id": "23c03ffb-a623-4e61-9278-e09db6f697c0",
   "metadata": {},
   "outputs": [
    {
     "data": {
      "text/plain": [
       "False"
      ]
     },
     "execution_count": 16,
     "metadata": {},
     "output_type": "execute_result"
    }
   ],
   "source": [
    "5==3 and 5==5"
   ]
  },
  {
   "cell_type": "code",
   "execution_count": 18,
   "id": "09f298db-971b-415e-a49b-42ff82898549",
   "metadata": {},
   "outputs": [
    {
     "data": {
      "text/plain": [
       "True"
      ]
     },
     "execution_count": 18,
     "metadata": {},
     "output_type": "execute_result"
    }
   ],
   "source": [
    "5>3 and 5>=5"
   ]
  },
  {
   "cell_type": "markdown",
   "id": "5f50c95b-a67b-47f6-91a0-7e3a785ab3d8",
   "metadata": {},
   "source": [
    "## Operaciones en Listas\n",
    "Suma/Slice"
   ]
  },
  {
   "cell_type": "code",
   "execution_count": 20,
   "id": "1b8a0d1b-cdde-4255-a6f2-ccc9a16be568",
   "metadata": {},
   "outputs": [
    {
     "data": {
      "text/plain": [
       "['l', 'g', 'f', 'e', 'a', 'e', 'i', 'o', 'u']"
      ]
     },
     "execution_count": 20,
     "metadata": {},
     "output_type": "execute_result"
    }
   ],
   "source": [
    "iniciales = ['l', 'g', 'f', 'e']\n",
    "iniciales+vocales"
   ]
  },
  {
   "cell_type": "code",
   "execution_count": 22,
   "id": "57ef2e69-4080-4181-97c5-672c022f7b42",
   "metadata": {},
   "outputs": [
    {
     "name": "stdout",
     "output_type": "stream",
     "text": [
      "['a', 'e', 'i', 'o', 'u']\n",
      "a\n",
      "u\n"
     ]
    }
   ],
   "source": [
    "print(vocales)\n",
    "print(vocales[0])\n",
    "print(vocales[-1])"
   ]
  },
  {
   "cell_type": "code",
   "execution_count": 27,
   "id": "3c9e9832-599c-4dd7-8aa4-c2517ab713af",
   "metadata": {},
   "outputs": [
    {
     "data": {
      "text/plain": [
       "['a', 'e', 'i']"
      ]
     },
     "execution_count": 27,
     "metadata": {},
     "output_type": "execute_result"
    }
   ],
   "source": [
    "vocales[:3]"
   ]
  },
  {
   "cell_type": "code",
   "execution_count": 24,
   "id": "f33a70fb-1073-4d2c-900b-85f852ff0a1f",
   "metadata": {},
   "outputs": [
    {
     "data": {
      "text/plain": [
       "['e', 'i', 'o']"
      ]
     },
     "execution_count": 24,
     "metadata": {},
     "output_type": "execute_result"
    }
   ],
   "source": [
    "vocales[1:4]"
   ]
  },
  {
   "cell_type": "code",
   "execution_count": 29,
   "id": "e8197960-febc-4a5f-a0f9-8e066d0ee6c9",
   "metadata": {},
   "outputs": [
    {
     "data": {
      "text/plain": [
       "['u', 'o', 'i', 'e', 'a']"
      ]
     },
     "execution_count": 29,
     "metadata": {},
     "output_type": "execute_result"
    }
   ],
   "source": [
    "# invertir lista\n",
    "vocales[::-1]"
   ]
  },
  {
   "cell_type": "markdown",
   "id": "ea014369-9bee-44e5-a2fa-b5582612e21f",
   "metadata": {},
   "source": [
    "## Sentencias de control\n",
    "\n",
    "- IF\n",
    "- for"
   ]
  },
  {
   "cell_type": "code",
   "execution_count": 34,
   "id": "d497d18a-44de-4182-980f-652e8cfb9851",
   "metadata": {},
   "outputs": [
    {
     "name": "stdout",
     "output_type": "stream",
     "text": [
      "5.0 es mayor que 3.0\n"
     ]
    }
   ],
   "source": [
    "if a > b:\n",
    "    print(f\"{a} es mayor que {b}\")\n",
    "else:\n",
    "    print(f\"{a} es menor que {b}\")"
   ]
  },
  {
   "cell_type": "code",
   "execution_count": 36,
   "id": "de1da3e7-273e-474b-b0b1-bcfc965c58dc",
   "metadata": {},
   "outputs": [
    {
     "name": "stdout",
     "output_type": "stream",
     "text": [
      "Lenin\n",
      "L\n",
      "e\n",
      "n\n",
      "i\n",
      "n\n"
     ]
    }
   ],
   "source": [
    "print(nombre)\n",
    "for i in nombre:\n",
    "    print(i)"
   ]
  },
  {
   "cell_type": "markdown",
   "id": "779974c7-fa7c-459a-89fa-82862731297e",
   "metadata": {},
   "source": [
    "## Funciones\n",
    "La funcion usa la palabra reservada def"
   ]
  },
  {
   "cell_type": "code",
   "execution_count": 48,
   "id": "572bad91-b6be-4ff5-9f78-e01a366f2617",
   "metadata": {},
   "outputs": [
    {
     "data": {
      "text/plain": [
       "8"
      ]
     },
     "execution_count": 48,
     "metadata": {},
     "output_type": "execute_result"
    }
   ],
   "source": [
    "def sumar(a,b):\n",
    "    return a+b\n",
    "\n",
    "sumar(3,5)"
   ]
  },
  {
   "cell_type": "markdown",
   "id": "c03c0f88",
   "metadata": {},
   "source": [
    "## Metodos de Listas\n",
    "\n",
    "Existen algunos métodos importantes a  utilizar con las listas como son:\n",
    "- range: permite generar un rango de números entre el número de inicio y el de fin (excluído) de uno en uno\n",
    "- append: permite añadir un elemento a la lista\n",
    "- enumerate: permite enumerar los contenidos de una lista\n",
    "\n",
    "Por ejemplo, en la siguiente celda se declara una lista vacía y se le añade los números de range\n",
    "\n"
   ]
  },
  {
   "cell_type": "code",
   "execution_count": 1,
   "id": "5bcc4298",
   "metadata": {},
   "outputs": [
    {
     "data": {
      "text/plain": [
       "[0, 1, 2, 3, 4, 5, 6, 7, 8, 9]"
      ]
     },
     "execution_count": 1,
     "metadata": {},
     "output_type": "execute_result"
    }
   ],
   "source": [
    "lista2 = []\n",
    "\n",
    "for i in range(10):\n",
    "    lista2.append(i)\n",
    "\n",
    "lista2"
   ]
  },
  {
   "cell_type": "markdown",
   "id": "312402c0",
   "metadata": {},
   "source": [
    "Al declarar un argumento único se asume que el punto de partida es 0 y se asume que el paso por defecto es 1. En cambio, en el siguiente ejemplo, se puede especificar los rangos:"
   ]
  },
  {
   "cell_type": "code",
   "execution_count": 3,
   "id": "656959bd",
   "metadata": {},
   "outputs": [
    {
     "name": "stdout",
     "output_type": "stream",
     "text": [
      "El índice 0 tiene el dato 2\n",
      "El índice 1 tiene el dato 4\n",
      "El índice 2 tiene el dato 6\n",
      "El índice 3 tiene el dato 8\n",
      "El índice 4 tiene el dato 10\n",
      "El índice 5 tiene el dato 12\n",
      "El índice 6 tiene el dato 14\n",
      "El índice 7 tiene el dato 16\n",
      "El índice 8 tiene el dato 18\n",
      "la lista obtenida es [2, 4, 6, 8, 10, 12, 14, 16, 18]\n"
     ]
    }
   ],
   "source": [
    "lista3 = []\n",
    "\n",
    "for i, dato in enumerate(range(2, 20, 2)):\n",
    "    print(f\"El índice {i} tiene el dato {dato}\")\n",
    "    lista3.append(dato)\n",
    "\n",
    "print(f\"la lista obtenida es {lista3}\")"
   ]
  },
  {
   "cell_type": "markdown",
   "id": "5f671d58",
   "metadata": {},
   "source": [
    "A menudo es importante conocer el tamaño de una lista. Esto se obtiene con el método `len`"
   ]
  },
  {
   "cell_type": "code",
   "execution_count": 4,
   "id": "71714b28",
   "metadata": {},
   "outputs": [
    {
     "name": "stdout",
     "output_type": "stream",
     "text": [
      "10\n",
      "9\n"
     ]
    }
   ],
   "source": [
    "print(len(lista2))\n",
    "print(len(lista3))"
   ]
  }
 ],
 "metadata": {
  "kernelspec": {
   "display_name": "Python 3 (ipykernel)",
   "language": "python",
   "name": "python3"
  },
  "language_info": {
   "codemirror_mode": {
    "name": "ipython",
    "version": 3
   },
   "file_extension": ".py",
   "mimetype": "text/x-python",
   "name": "python",
   "nbconvert_exporter": "python",
   "pygments_lexer": "ipython3",
   "version": "3.9.19"
  }
 },
 "nbformat": 4,
 "nbformat_minor": 5
}
