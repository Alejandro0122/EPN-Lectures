{
 "cells": [
  {
   "cell_type": "markdown",
   "id": "8598c4ee-8948-4694-9520-730514c0997f",
   "metadata": {},
   "source": [
    "## Análisis de Datos de Temperatura\n",
    "\n",
    "- Fecha: 2024-08-06\n",
    "- Coder: LeninGF\n",
    "- Objetivo: realizar la isnpección sobre los datos recolectados a través del API de openweather y usando la configuración de Linux para el registro de los mismos"
   ]
  },
  {
   "cell_type": "code",
   "execution_count": 1,
   "id": "f0d0bfc2-34a5-4757-a1ec-9df5a0bfeda0",
   "metadata": {},
   "outputs": [
    {
     "data": {
      "text/plain": [
       "['.#clima-quito-hoy.csv.backup',\n",
       " '#clima-quito-hoy.csv.backup#',\n",
       " 'clima-quito-hoy.csv.backup',\n",
       " 'ejemplo.sh',\n",
       " 'ejemplo.sh~',\n",
       " 'get-weather.sh~',\n",
       " '.ipynb_checkpoints',\n",
       " 'clima-quito-hoy-etl.csv',\n",
       " 'main.py',\n",
       " 'CityTemperatureAnalysis.ipynb',\n",
       " 'output.log',\n",
       " 'registro.log',\n",
       " 'main.py~',\n",
       " 'clima-quito-hoy.csv',\n",
       " 'get-weather.sh']"
      ]
     },
     "execution_count": 1,
     "metadata": {},
     "output_type": "execute_result"
    }
   ],
   "source": [
    "import os\n",
    "import pandas as pd\n",
    "os.listdir(os.getcwd())"
   ]
  },
  {
   "cell_type": "markdown",
   "id": "34dc994b-a482-4547-ba89-103c6ba239ff",
   "metadata": {},
   "source": [
    "### Lectura de Datos\n",
    "Lectura del archivo csv con *with open* debido a que openweather coloca valores sobre la lluvia y la nieve cuando éstos están disponibles por lo que en este caso he obtenido 30 campos de lectura obviando los referidos. Esto puede solventarse incluyendo los campos con valor NaN por defecto en el programa de Python para captura de información"
   ]
  },
  {
   "cell_type": "code",
   "execution_count": 2,
   "id": "700273d9-c22f-4ea6-ab55-7dc6bdc9153a",
   "metadata": {},
   "outputs": [
    {
     "data": {
      "text/plain": [
       "58"
      ]
     },
     "execution_count": 2,
     "metadata": {},
     "output_type": "execute_result"
    }
   ],
   "source": [
    "import csv\n",
    "csv_file = 'clima-quito-hoy.csv'\n",
    "filtered_rows = []\n",
    "with open(csv_file, 'r') as f:\n",
    "    reader = csv.reader(f)\n",
    "    for row in reader:\n",
    "        if len(row)==30:\n",
    "            filtered_rows.append(row)\n",
    "len(filtered_rows)"
   ]
  },
  {
   "cell_type": "code",
   "execution_count": 3,
   "id": "66dc76fd-502b-4ad9-b899-abe081958038",
   "metadata": {},
   "outputs": [
    {
     "name": "stdout",
     "output_type": "stream",
     "text": [
      "30 57\n"
     ]
    }
   ],
   "source": [
    "header = filtered_rows[0]\n",
    "data = filtered_rows[1:]\n",
    "print(len(header), len(data))"
   ]
  },
  {
   "cell_type": "code",
   "execution_count": 4,
   "id": "533b2090-b313-4088-b0cd-1f150f4dd827",
   "metadata": {},
   "outputs": [
    {
     "data": {
      "text/plain": [
       "(57, 30)"
      ]
     },
     "execution_count": 4,
     "metadata": {},
     "output_type": "execute_result"
    }
   ],
   "source": [
    "# df = pd.read_csv('clima-quito-hoy.csv')\n",
    "df = pd.DataFrame(data, columns=header)\n",
    "df.shape"
   ]
  },
  {
   "cell_type": "code",
   "execution_count": 5,
   "id": "85d521b4-b2da-4fba-9d01-88ced55ccc2f",
   "metadata": {},
   "outputs": [
    {
     "data": {
      "text/html": [
       "<div>\n",
       "<style scoped>\n",
       "    .dataframe tbody tr th:only-of-type {\n",
       "        vertical-align: middle;\n",
       "    }\n",
       "\n",
       "    .dataframe tbody tr th {\n",
       "        vertical-align: top;\n",
       "    }\n",
       "\n",
       "    .dataframe thead th {\n",
       "        text-align: right;\n",
       "    }\n",
       "</style>\n",
       "<table border=\"1\" class=\"dataframe\">\n",
       "  <thead>\n",
       "    <tr style=\"text-align: right;\">\n",
       "      <th></th>\n",
       "      <th>dt</th>\n",
       "      <th>coord_lon</th>\n",
       "      <th>coord_lat</th>\n",
       "      <th>weather_0_id</th>\n",
       "      <th>weather_0_main</th>\n",
       "      <th>weather_0_description</th>\n",
       "      <th>weather_0_icon</th>\n",
       "      <th>base</th>\n",
       "      <th>main_temp</th>\n",
       "      <th>main_feels_like</th>\n",
       "      <th>...</th>\n",
       "      <th>clouds_all</th>\n",
       "      <th>sys_type</th>\n",
       "      <th>sys_id</th>\n",
       "      <th>sys_country</th>\n",
       "      <th>sys_sunrise</th>\n",
       "      <th>sys_sunset</th>\n",
       "      <th>timezone</th>\n",
       "      <th>id</th>\n",
       "      <th>name</th>\n",
       "      <th>cod</th>\n",
       "    </tr>\n",
       "  </thead>\n",
       "  <tbody>\n",
       "    <tr>\n",
       "      <th>16</th>\n",
       "      <td>1722703193</td>\n",
       "      <td>-78.5211</td>\n",
       "      <td>-0.2309</td>\n",
       "      <td>801</td>\n",
       "      <td>Clouds</td>\n",
       "      <td>few clouds</td>\n",
       "      <td>02d</td>\n",
       "      <td>stations</td>\n",
       "      <td>18.66</td>\n",
       "      <td>17.44</td>\n",
       "      <td>...</td>\n",
       "      <td>11</td>\n",
       "      <td>1</td>\n",
       "      <td>8555</td>\n",
       "      <td>EC</td>\n",
       "      <td>1722683820</td>\n",
       "      <td>1722727403</td>\n",
       "      <td>-18000</td>\n",
       "      <td>3652462</td>\n",
       "      <td>Quito</td>\n",
       "      <td>200</td>\n",
       "    </tr>\n",
       "    <tr>\n",
       "      <th>56</th>\n",
       "      <td>1722961456</td>\n",
       "      <td>-78.5211</td>\n",
       "      <td>-0.2309</td>\n",
       "      <td>801</td>\n",
       "      <td>Clouds</td>\n",
       "      <td>few clouds</td>\n",
       "      <td>02d</td>\n",
       "      <td>stations</td>\n",
       "      <td>17.66</td>\n",
       "      <td>16.71</td>\n",
       "      <td>...</td>\n",
       "      <td>14</td>\n",
       "      <td>1</td>\n",
       "      <td>8555</td>\n",
       "      <td>EC</td>\n",
       "      <td>1722943004</td>\n",
       "      <td>1722986587</td>\n",
       "      <td>-18000</td>\n",
       "      <td>3652462</td>\n",
       "      <td>Quito</td>\n",
       "      <td>200</td>\n",
       "    </tr>\n",
       "    <tr>\n",
       "      <th>33</th>\n",
       "      <td>1722824020</td>\n",
       "      <td>-78.5211</td>\n",
       "      <td>-0.2309</td>\n",
       "      <td>802</td>\n",
       "      <td>Clouds</td>\n",
       "      <td>scattered clouds</td>\n",
       "      <td>03n</td>\n",
       "      <td>stations</td>\n",
       "      <td>9.66</td>\n",
       "      <td>9.66</td>\n",
       "      <td>...</td>\n",
       "      <td>37</td>\n",
       "      <td>1</td>\n",
       "      <td>8555</td>\n",
       "      <td>EC</td>\n",
       "      <td>1722770215</td>\n",
       "      <td>1722813798</td>\n",
       "      <td>-18000</td>\n",
       "      <td>3652462</td>\n",
       "      <td>Quito</td>\n",
       "      <td>200</td>\n",
       "    </tr>\n",
       "    <tr>\n",
       "      <th>55</th>\n",
       "      <td>1722960744</td>\n",
       "      <td>-78.5211</td>\n",
       "      <td>-0.2309</td>\n",
       "      <td>801</td>\n",
       "      <td>Clouds</td>\n",
       "      <td>few clouds</td>\n",
       "      <td>02d</td>\n",
       "      <td>stations</td>\n",
       "      <td>17.66</td>\n",
       "      <td>16.71</td>\n",
       "      <td>...</td>\n",
       "      <td>14</td>\n",
       "      <td>1</td>\n",
       "      <td>8555</td>\n",
       "      <td>EC</td>\n",
       "      <td>1722943004</td>\n",
       "      <td>1722986587</td>\n",
       "      <td>-18000</td>\n",
       "      <td>3652462</td>\n",
       "      <td>Quito</td>\n",
       "      <td>200</td>\n",
       "    </tr>\n",
       "    <tr>\n",
       "      <th>32</th>\n",
       "      <td>1722823136</td>\n",
       "      <td>-78.5249</td>\n",
       "      <td>-0.2299</td>\n",
       "      <td>802</td>\n",
       "      <td>Clouds</td>\n",
       "      <td>scattered clouds</td>\n",
       "      <td>03n</td>\n",
       "      <td>stations</td>\n",
       "      <td>9.53</td>\n",
       "      <td>9.53</td>\n",
       "      <td>...</td>\n",
       "      <td>38</td>\n",
       "      <td>1</td>\n",
       "      <td>8555</td>\n",
       "      <td>EC</td>\n",
       "      <td>1722770216</td>\n",
       "      <td>1722813799</td>\n",
       "      <td>-18000</td>\n",
       "      <td>3652462</td>\n",
       "      <td>Quito</td>\n",
       "      <td>200</td>\n",
       "    </tr>\n",
       "  </tbody>\n",
       "</table>\n",
       "<p>5 rows × 30 columns</p>\n",
       "</div>"
      ],
      "text/plain": [
       "            dt coord_lon coord_lat weather_0_id weather_0_main  \\\n",
       "16  1722703193  -78.5211   -0.2309          801         Clouds   \n",
       "56  1722961456  -78.5211   -0.2309          801         Clouds   \n",
       "33  1722824020  -78.5211   -0.2309          802         Clouds   \n",
       "55  1722960744  -78.5211   -0.2309          801         Clouds   \n",
       "32  1722823136  -78.5249   -0.2299          802         Clouds   \n",
       "\n",
       "   weather_0_description weather_0_icon      base main_temp main_feels_like  \\\n",
       "16            few clouds            02d  stations     18.66           17.44   \n",
       "56            few clouds            02d  stations     17.66           16.71   \n",
       "33      scattered clouds            03n  stations      9.66            9.66   \n",
       "55            few clouds            02d  stations     17.66           16.71   \n",
       "32      scattered clouds            03n  stations      9.53            9.53   \n",
       "\n",
       "    ... clouds_all sys_type sys_id sys_country sys_sunrise  sys_sunset  \\\n",
       "16  ...         11        1   8555          EC  1722683820  1722727403   \n",
       "56  ...         14        1   8555          EC  1722943004  1722986587   \n",
       "33  ...         37        1   8555          EC  1722770215  1722813798   \n",
       "55  ...         14        1   8555          EC  1722943004  1722986587   \n",
       "32  ...         38        1   8555          EC  1722770216  1722813799   \n",
       "\n",
       "   timezone       id   name  cod  \n",
       "16   -18000  3652462  Quito  200  \n",
       "56   -18000  3652462  Quito  200  \n",
       "33   -18000  3652462  Quito  200  \n",
       "55   -18000  3652462  Quito  200  \n",
       "32   -18000  3652462  Quito  200  \n",
       "\n",
       "[5 rows x 30 columns]"
      ]
     },
     "execution_count": 5,
     "metadata": {},
     "output_type": "execute_result"
    }
   ],
   "source": [
    "df.sample(5)"
   ]
  },
  {
   "cell_type": "markdown",
   "id": "c7b78457-4791-4ca8-8119-d80f8f4eded6",
   "metadata": {},
   "source": [
    "### Análisis de Datos\n",
    "- Se procede a realizar un plot de variables de interés según el tiempo capturado. La primera columna contiene la información del API sobre tiempo en formato **Timestamp**, misma que se puede convertir a **datetime**.\n",
    "- Debido al proceso utilizado para guardar los datos `dt` tiene como tipo de dato objeto por lo que es necesario convertirlo a entero. De igual manera existen otras variables capturadas que en este caso por la lectura con `with open` se detectan como object en vez de sus tipos de datos correctos\n"
   ]
  },
  {
   "cell_type": "code",
   "execution_count": 6,
   "id": "f26cfd90-e163-4b6a-9d46-c72950917ead",
   "metadata": {},
   "outputs": [
    {
     "name": "stdout",
     "output_type": "stream",
     "text": [
      "<class 'pandas.core.frame.DataFrame'>\n",
      "RangeIndex: 57 entries, 0 to 56\n",
      "Data columns (total 30 columns):\n",
      " #   Column                 Non-Null Count  Dtype \n",
      "---  ------                 --------------  ----- \n",
      " 0   dt                     57 non-null     object\n",
      " 1   coord_lon              57 non-null     object\n",
      " 2   coord_lat              57 non-null     object\n",
      " 3   weather_0_id           57 non-null     object\n",
      " 4   weather_0_main         57 non-null     object\n",
      " 5   weather_0_description  57 non-null     object\n",
      " 6   weather_0_icon         57 non-null     object\n",
      " 7   base                   57 non-null     object\n",
      " 8   main_temp              57 non-null     object\n",
      " 9   main_feels_like        57 non-null     object\n",
      " 10  main_temp_min          57 non-null     object\n",
      " 11  main_temp_max          57 non-null     object\n",
      " 12  main_pressure          57 non-null     object\n",
      " 13  main_humidity          57 non-null     object\n",
      " 14  main_sea_level         57 non-null     object\n",
      " 15  main_grnd_level        57 non-null     object\n",
      " 16  visibility             57 non-null     object\n",
      " 17  wind_speed             57 non-null     object\n",
      " 18  wind_deg               57 non-null     object\n",
      " 19  wind_gust              57 non-null     object\n",
      " 20  clouds_all             57 non-null     object\n",
      " 21  sys_type               57 non-null     object\n",
      " 22  sys_id                 57 non-null     object\n",
      " 23  sys_country            57 non-null     object\n",
      " 24  sys_sunrise            57 non-null     object\n",
      " 25  sys_sunset             57 non-null     object\n",
      " 26  timezone               57 non-null     object\n",
      " 27  id                     57 non-null     object\n",
      " 28  name                   57 non-null     object\n",
      " 29  cod                    57 non-null     object\n",
      "dtypes: object(30)\n",
      "memory usage: 13.5+ KB\n"
     ]
    }
   ],
   "source": [
    "df.info()"
   ]
  },
  {
   "cell_type": "code",
   "execution_count": 7,
   "id": "67325379-1ad6-40d6-a46e-9d980005837e",
   "metadata": {},
   "outputs": [],
   "source": [
    "df.dt = df.dt.astype(int)\n",
    "df.sys_sunrise = df.sys_sunrise.astype(int)\n",
    "df.sys_sunset = df.sys_sunset.astype(int)\n",
    "for column in df.columns:\n",
    "    try:\n",
    "        df[column] = pd.to_numeric(df[column])\n",
    "    except ValueError:\n",
    "        next"
   ]
  },
  {
   "cell_type": "code",
   "execution_count": 8,
   "id": "86a5941b-e1dc-44a8-925e-6a000d14e6bf",
   "metadata": {},
   "outputs": [
    {
     "name": "stdout",
     "output_type": "stream",
     "text": [
      "<class 'pandas.core.frame.DataFrame'>\n",
      "RangeIndex: 57 entries, 0 to 56\n",
      "Data columns (total 30 columns):\n",
      " #   Column                 Non-Null Count  Dtype  \n",
      "---  ------                 --------------  -----  \n",
      " 0   dt                     57 non-null     int64  \n",
      " 1   coord_lon              57 non-null     float64\n",
      " 2   coord_lat              57 non-null     float64\n",
      " 3   weather_0_id           57 non-null     int64  \n",
      " 4   weather_0_main         57 non-null     object \n",
      " 5   weather_0_description  57 non-null     object \n",
      " 6   weather_0_icon         57 non-null     object \n",
      " 7   base                   57 non-null     object \n",
      " 8   main_temp              57 non-null     float64\n",
      " 9   main_feels_like        57 non-null     float64\n",
      " 10  main_temp_min          57 non-null     float64\n",
      " 11  main_temp_max          57 non-null     float64\n",
      " 12  main_pressure          57 non-null     int64  \n",
      " 13  main_humidity          57 non-null     int64  \n",
      " 14  main_sea_level         57 non-null     int64  \n",
      " 15  main_grnd_level        57 non-null     int64  \n",
      " 16  visibility             57 non-null     int64  \n",
      " 17  wind_speed             57 non-null     float64\n",
      " 18  wind_deg               57 non-null     int64  \n",
      " 19  wind_gust              57 non-null     float64\n",
      " 20  clouds_all             57 non-null     int64  \n",
      " 21  sys_type               57 non-null     int64  \n",
      " 22  sys_id                 57 non-null     int64  \n",
      " 23  sys_country            57 non-null     object \n",
      " 24  sys_sunrise            57 non-null     int64  \n",
      " 25  sys_sunset             57 non-null     int64  \n",
      " 26  timezone               57 non-null     int64  \n",
      " 27  id                     57 non-null     int64  \n",
      " 28  name                   57 non-null     object \n",
      " 29  cod                    57 non-null     int64  \n",
      "dtypes: float64(8), int64(16), object(6)\n",
      "memory usage: 13.5+ KB\n"
     ]
    }
   ],
   "source": [
    "df.info()"
   ]
  },
  {
   "cell_type": "code",
   "execution_count": 9,
   "id": "33a57a27-7d27-43a0-a73e-f57d2e545a34",
   "metadata": {},
   "outputs": [
    {
     "data": {
      "text/html": [
       "<div>\n",
       "<style scoped>\n",
       "    .dataframe tbody tr th:only-of-type {\n",
       "        vertical-align: middle;\n",
       "    }\n",
       "\n",
       "    .dataframe tbody tr th {\n",
       "        vertical-align: top;\n",
       "    }\n",
       "\n",
       "    .dataframe thead th {\n",
       "        text-align: right;\n",
       "    }\n",
       "</style>\n",
       "<table border=\"1\" class=\"dataframe\">\n",
       "  <thead>\n",
       "    <tr style=\"text-align: right;\">\n",
       "      <th></th>\n",
       "      <th>dt</th>\n",
       "      <th>coord_lon</th>\n",
       "      <th>coord_lat</th>\n",
       "      <th>weather_0_id</th>\n",
       "      <th>weather_0_main</th>\n",
       "      <th>weather_0_description</th>\n",
       "      <th>weather_0_icon</th>\n",
       "      <th>base</th>\n",
       "      <th>main_temp</th>\n",
       "      <th>main_feels_like</th>\n",
       "      <th>...</th>\n",
       "      <th>clouds_all</th>\n",
       "      <th>sys_type</th>\n",
       "      <th>sys_id</th>\n",
       "      <th>sys_country</th>\n",
       "      <th>sys_sunrise</th>\n",
       "      <th>sys_sunset</th>\n",
       "      <th>timezone</th>\n",
       "      <th>id</th>\n",
       "      <th>name</th>\n",
       "      <th>cod</th>\n",
       "    </tr>\n",
       "  </thead>\n",
       "  <tbody>\n",
       "    <tr>\n",
       "      <th>32</th>\n",
       "      <td>2024-08-04 20:58:56</td>\n",
       "      <td>-78.5249</td>\n",
       "      <td>-0.2299</td>\n",
       "      <td>802</td>\n",
       "      <td>Clouds</td>\n",
       "      <td>scattered clouds</td>\n",
       "      <td>03n</td>\n",
       "      <td>stations</td>\n",
       "      <td>9.53</td>\n",
       "      <td>9.53</td>\n",
       "      <td>...</td>\n",
       "      <td>38</td>\n",
       "      <td>1</td>\n",
       "      <td>8555</td>\n",
       "      <td>EC</td>\n",
       "      <td>2024-08-04 06:16:56</td>\n",
       "      <td>2024-08-04 18:23:19</td>\n",
       "      <td>-18000</td>\n",
       "      <td>3652462</td>\n",
       "      <td>Quito</td>\n",
       "      <td>200</td>\n",
       "    </tr>\n",
       "    <tr>\n",
       "      <th>2</th>\n",
       "      <td>2024-08-03 00:15:02</td>\n",
       "      <td>-78.5249</td>\n",
       "      <td>-0.2299</td>\n",
       "      <td>803</td>\n",
       "      <td>Clouds</td>\n",
       "      <td>broken clouds</td>\n",
       "      <td>04n</td>\n",
       "      <td>stations</td>\n",
       "      <td>8.53</td>\n",
       "      <td>8.53</td>\n",
       "      <td>...</td>\n",
       "      <td>68</td>\n",
       "      <td>1</td>\n",
       "      <td>8555</td>\n",
       "      <td>EC</td>\n",
       "      <td>2024-08-03 06:17:01</td>\n",
       "      <td>2024-08-03 18:23:24</td>\n",
       "      <td>-18000</td>\n",
       "      <td>3652462</td>\n",
       "      <td>Quito</td>\n",
       "      <td>200</td>\n",
       "    </tr>\n",
       "    <tr>\n",
       "      <th>10</th>\n",
       "      <td>2024-08-03 02:25:15</td>\n",
       "      <td>-78.5211</td>\n",
       "      <td>-0.2309</td>\n",
       "      <td>802</td>\n",
       "      <td>Clouds</td>\n",
       "      <td>scattered clouds</td>\n",
       "      <td>03n</td>\n",
       "      <td>stations</td>\n",
       "      <td>7.66</td>\n",
       "      <td>6.91</td>\n",
       "      <td>...</td>\n",
       "      <td>25</td>\n",
       "      <td>1</td>\n",
       "      <td>8555</td>\n",
       "      <td>EC</td>\n",
       "      <td>2024-08-03 06:17:00</td>\n",
       "      <td>2024-08-03 18:23:23</td>\n",
       "      <td>-18000</td>\n",
       "      <td>3652462</td>\n",
       "      <td>Quito</td>\n",
       "      <td>200</td>\n",
       "    </tr>\n",
       "    <tr>\n",
       "      <th>24</th>\n",
       "      <td>2024-08-03 22:10:16</td>\n",
       "      <td>-78.5211</td>\n",
       "      <td>-0.2309</td>\n",
       "      <td>804</td>\n",
       "      <td>Clouds</td>\n",
       "      <td>overcast clouds</td>\n",
       "      <td>04n</td>\n",
       "      <td>stations</td>\n",
       "      <td>8.66</td>\n",
       "      <td>8.66</td>\n",
       "      <td>...</td>\n",
       "      <td>97</td>\n",
       "      <td>1</td>\n",
       "      <td>8555</td>\n",
       "      <td>EC</td>\n",
       "      <td>2024-08-03 06:17:00</td>\n",
       "      <td>2024-08-03 18:23:23</td>\n",
       "      <td>-18000</td>\n",
       "      <td>3652462</td>\n",
       "      <td>Quito</td>\n",
       "      <td>200</td>\n",
       "    </tr>\n",
       "    <tr>\n",
       "      <th>9</th>\n",
       "      <td>2024-08-03 02:13:58</td>\n",
       "      <td>-78.5249</td>\n",
       "      <td>-0.2299</td>\n",
       "      <td>802</td>\n",
       "      <td>Clouds</td>\n",
       "      <td>scattered clouds</td>\n",
       "      <td>03n</td>\n",
       "      <td>stations</td>\n",
       "      <td>7.53</td>\n",
       "      <td>6.77</td>\n",
       "      <td>...</td>\n",
       "      <td>26</td>\n",
       "      <td>1</td>\n",
       "      <td>8555</td>\n",
       "      <td>EC</td>\n",
       "      <td>2024-08-03 06:17:01</td>\n",
       "      <td>2024-08-03 18:23:24</td>\n",
       "      <td>-18000</td>\n",
       "      <td>3652462</td>\n",
       "      <td>Quito</td>\n",
       "      <td>200</td>\n",
       "    </tr>\n",
       "  </tbody>\n",
       "</table>\n",
       "<p>5 rows × 30 columns</p>\n",
       "</div>"
      ],
      "text/plain": [
       "                    dt  coord_lon  coord_lat  weather_0_id weather_0_main  \\\n",
       "32 2024-08-04 20:58:56   -78.5249    -0.2299           802         Clouds   \n",
       "2  2024-08-03 00:15:02   -78.5249    -0.2299           803         Clouds   \n",
       "10 2024-08-03 02:25:15   -78.5211    -0.2309           802         Clouds   \n",
       "24 2024-08-03 22:10:16   -78.5211    -0.2309           804         Clouds   \n",
       "9  2024-08-03 02:13:58   -78.5249    -0.2299           802         Clouds   \n",
       "\n",
       "   weather_0_description weather_0_icon      base  main_temp  main_feels_like  \\\n",
       "32      scattered clouds            03n  stations       9.53             9.53   \n",
       "2          broken clouds            04n  stations       8.53             8.53   \n",
       "10      scattered clouds            03n  stations       7.66             6.91   \n",
       "24       overcast clouds            04n  stations       8.66             8.66   \n",
       "9       scattered clouds            03n  stations       7.53             6.77   \n",
       "\n",
       "    ...  clouds_all  sys_type  sys_id  sys_country         sys_sunrise  \\\n",
       "32  ...          38         1    8555           EC 2024-08-04 06:16:56   \n",
       "2   ...          68         1    8555           EC 2024-08-03 06:17:01   \n",
       "10  ...          25         1    8555           EC 2024-08-03 06:17:00   \n",
       "24  ...          97         1    8555           EC 2024-08-03 06:17:00   \n",
       "9   ...          26         1    8555           EC 2024-08-03 06:17:01   \n",
       "\n",
       "            sys_sunset  timezone       id   name  cod  \n",
       "32 2024-08-04 18:23:19    -18000  3652462  Quito  200  \n",
       "2  2024-08-03 18:23:24    -18000  3652462  Quito  200  \n",
       "10 2024-08-03 18:23:23    -18000  3652462  Quito  200  \n",
       "24 2024-08-03 18:23:23    -18000  3652462  Quito  200  \n",
       "9  2024-08-03 18:23:24    -18000  3652462  Quito  200  \n",
       "\n",
       "[5 rows x 30 columns]"
      ]
     },
     "execution_count": 9,
     "metadata": {},
     "output_type": "execute_result"
    }
   ],
   "source": [
    "from datetime import datetime\n",
    "df_etl = df.copy()\n",
    "df_etl.dt = df.dt.apply(lambda x: datetime.fromtimestamp(x))\n",
    "df_etl.sys_sunrise = df.sys_sunrise.apply(lambda x: datetime.fromtimestamp(x))\n",
    "df_etl.sys_sunset = df.sys_sunset.apply(lambda x: datetime.fromtimestamp(x))\n",
    "df_etl.sample(5)"
   ]
  },
  {
   "cell_type": "markdown",
   "id": "ae636bdf-042d-4e05-b489-f5ebee6d5beb",
   "metadata": {},
   "source": [
    "Generalmente es de interés realizar un breve análisis estadístico de las variables del dataset"
   ]
  },
  {
   "cell_type": "code",
   "execution_count": 10,
   "id": "d57234c2-64b9-466d-91ab-9e6e16a5a9f9",
   "metadata": {},
   "outputs": [
    {
     "data": {
      "text/html": [
       "<div>\n",
       "<style scoped>\n",
       "    .dataframe tbody tr th:only-of-type {\n",
       "        vertical-align: middle;\n",
       "    }\n",
       "\n",
       "    .dataframe tbody tr th {\n",
       "        vertical-align: top;\n",
       "    }\n",
       "\n",
       "    .dataframe thead th {\n",
       "        text-align: right;\n",
       "    }\n",
       "</style>\n",
       "<table border=\"1\" class=\"dataframe\">\n",
       "  <thead>\n",
       "    <tr style=\"text-align: right;\">\n",
       "      <th></th>\n",
       "      <th>count</th>\n",
       "      <th>mean</th>\n",
       "      <th>min</th>\n",
       "      <th>25%</th>\n",
       "      <th>50%</th>\n",
       "      <th>75%</th>\n",
       "      <th>max</th>\n",
       "      <th>std</th>\n",
       "    </tr>\n",
       "  </thead>\n",
       "  <tbody>\n",
       "    <tr>\n",
       "      <th>dt</th>\n",
       "      <td>57</td>\n",
       "      <td>2024-08-04 12:15:59.859649280</td>\n",
       "      <td>2024-08-02 23:45:02</td>\n",
       "      <td>2024-08-03 11:09:10</td>\n",
       "      <td>2024-08-04 09:54:14</td>\n",
       "      <td>2024-08-05 00:30:02</td>\n",
       "      <td>2024-08-06 11:24:16</td>\n",
       "      <td>NaN</td>\n",
       "    </tr>\n",
       "    <tr>\n",
       "      <th>coord_lon</th>\n",
       "      <td>57.0</td>\n",
       "      <td>-78.523509</td>\n",
       "      <td>-78.525</td>\n",
       "      <td>-78.5249</td>\n",
       "      <td>-78.5249</td>\n",
       "      <td>-78.5211</td>\n",
       "      <td>-78.5211</td>\n",
       "      <td>0.001856</td>\n",
       "    </tr>\n",
       "    <tr>\n",
       "      <th>coord_lat</th>\n",
       "      <td>57.0</td>\n",
       "      <td>-0.230268</td>\n",
       "      <td>-0.2309</td>\n",
       "      <td>-0.2309</td>\n",
       "      <td>-0.2299</td>\n",
       "      <td>-0.2299</td>\n",
       "      <td>-0.2299</td>\n",
       "      <td>0.000487</td>\n",
       "    </tr>\n",
       "    <tr>\n",
       "      <th>weather_0_id</th>\n",
       "      <td>57.0</td>\n",
       "      <td>801.982456</td>\n",
       "      <td>800.0</td>\n",
       "      <td>801.0</td>\n",
       "      <td>802.0</td>\n",
       "      <td>803.0</td>\n",
       "      <td>804.0</td>\n",
       "      <td>1.17247</td>\n",
       "    </tr>\n",
       "    <tr>\n",
       "      <th>main_temp</th>\n",
       "      <td>57.0</td>\n",
       "      <td>12.139298</td>\n",
       "      <td>5.53</td>\n",
       "      <td>8.53</td>\n",
       "      <td>9.66</td>\n",
       "      <td>15.53</td>\n",
       "      <td>21.66</td>\n",
       "      <td>4.640032</td>\n",
       "    </tr>\n",
       "    <tr>\n",
       "      <th>main_feels_like</th>\n",
       "      <td>57.0</td>\n",
       "      <td>11.520526</td>\n",
       "      <td>4.49</td>\n",
       "      <td>8.53</td>\n",
       "      <td>9.66</td>\n",
       "      <td>14.0</td>\n",
       "      <td>20.82</td>\n",
       "      <td>4.30918</td>\n",
       "    </tr>\n",
       "    <tr>\n",
       "      <th>main_temp_min</th>\n",
       "      <td>57.0</td>\n",
       "      <td>12.139298</td>\n",
       "      <td>5.53</td>\n",
       "      <td>8.53</td>\n",
       "      <td>9.66</td>\n",
       "      <td>15.53</td>\n",
       "      <td>21.66</td>\n",
       "      <td>4.640032</td>\n",
       "    </tr>\n",
       "    <tr>\n",
       "      <th>main_temp_max</th>\n",
       "      <td>57.0</td>\n",
       "      <td>12.139298</td>\n",
       "      <td>5.53</td>\n",
       "      <td>8.53</td>\n",
       "      <td>9.66</td>\n",
       "      <td>15.53</td>\n",
       "      <td>21.66</td>\n",
       "      <td>4.640032</td>\n",
       "    </tr>\n",
       "    <tr>\n",
       "      <th>main_pressure</th>\n",
       "      <td>57.0</td>\n",
       "      <td>1017.473684</td>\n",
       "      <td>1012.0</td>\n",
       "      <td>1016.0</td>\n",
       "      <td>1018.0</td>\n",
       "      <td>1019.0</td>\n",
       "      <td>1020.0</td>\n",
       "      <td>2.307637</td>\n",
       "    </tr>\n",
       "    <tr>\n",
       "      <th>main_humidity</th>\n",
       "      <td>57.0</td>\n",
       "      <td>69.140351</td>\n",
       "      <td>32.0</td>\n",
       "      <td>50.0</td>\n",
       "      <td>84.0</td>\n",
       "      <td>92.0</td>\n",
       "      <td>94.0</td>\n",
       "      <td>23.497294</td>\n",
       "    </tr>\n",
       "    <tr>\n",
       "      <th>main_sea_level</th>\n",
       "      <td>57.0</td>\n",
       "      <td>1017.473684</td>\n",
       "      <td>1012.0</td>\n",
       "      <td>1016.0</td>\n",
       "      <td>1018.0</td>\n",
       "      <td>1019.0</td>\n",
       "      <td>1020.0</td>\n",
       "      <td>2.307637</td>\n",
       "    </tr>\n",
       "    <tr>\n",
       "      <th>main_grnd_level</th>\n",
       "      <td>57.0</td>\n",
       "      <td>726.017544</td>\n",
       "      <td>719.0</td>\n",
       "      <td>724.0</td>\n",
       "      <td>726.0</td>\n",
       "      <td>728.0</td>\n",
       "      <td>730.0</td>\n",
       "      <td>2.628764</td>\n",
       "    </tr>\n",
       "    <tr>\n",
       "      <th>visibility</th>\n",
       "      <td>57.0</td>\n",
       "      <td>9749.596491</td>\n",
       "      <td>5801.0</td>\n",
       "      <td>10000.0</td>\n",
       "      <td>10000.0</td>\n",
       "      <td>10000.0</td>\n",
       "      <td>10000.0</td>\n",
       "      <td>751.574915</td>\n",
       "    </tr>\n",
       "    <tr>\n",
       "      <th>wind_speed</th>\n",
       "      <td>57.0</td>\n",
       "      <td>1.51193</td>\n",
       "      <td>0.44</td>\n",
       "      <td>0.99</td>\n",
       "      <td>1.17</td>\n",
       "      <td>1.56</td>\n",
       "      <td>4.05</td>\n",
       "      <td>0.922637</td>\n",
       "    </tr>\n",
       "    <tr>\n",
       "      <th>wind_deg</th>\n",
       "      <td>57.0</td>\n",
       "      <td>160.684211</td>\n",
       "      <td>6.0</td>\n",
       "      <td>90.0</td>\n",
       "      <td>133.0</td>\n",
       "      <td>171.0</td>\n",
       "      <td>356.0</td>\n",
       "      <td>118.036338</td>\n",
       "    </tr>\n",
       "    <tr>\n",
       "      <th>wind_gust</th>\n",
       "      <td>57.0</td>\n",
       "      <td>2.111053</td>\n",
       "      <td>0.7</td>\n",
       "      <td>1.32</td>\n",
       "      <td>1.74</td>\n",
       "      <td>2.11</td>\n",
       "      <td>5.7</td>\n",
       "      <td>1.238843</td>\n",
       "    </tr>\n",
       "    <tr>\n",
       "      <th>clouds_all</th>\n",
       "      <td>57.0</td>\n",
       "      <td>40.859649</td>\n",
       "      <td>10.0</td>\n",
       "      <td>15.0</td>\n",
       "      <td>37.0</td>\n",
       "      <td>68.0</td>\n",
       "      <td>97.0</td>\n",
       "      <td>28.592231</td>\n",
       "    </tr>\n",
       "    <tr>\n",
       "      <th>sys_type</th>\n",
       "      <td>57.0</td>\n",
       "      <td>1.0</td>\n",
       "      <td>1.0</td>\n",
       "      <td>1.0</td>\n",
       "      <td>1.0</td>\n",
       "      <td>1.0</td>\n",
       "      <td>1.0</td>\n",
       "      <td>0.0</td>\n",
       "    </tr>\n",
       "    <tr>\n",
       "      <th>sys_id</th>\n",
       "      <td>57.0</td>\n",
       "      <td>8555.0</td>\n",
       "      <td>8555.0</td>\n",
       "      <td>8555.0</td>\n",
       "      <td>8555.0</td>\n",
       "      <td>8555.0</td>\n",
       "      <td>8555.0</td>\n",
       "      <td>0.0</td>\n",
       "    </tr>\n",
       "    <tr>\n",
       "      <th>sys_sunrise</th>\n",
       "      <td>57</td>\n",
       "      <td>2024-08-04 07:57:58.157894656</td>\n",
       "      <td>2024-08-02 06:17:04</td>\n",
       "      <td>2024-08-03 06:17:01</td>\n",
       "      <td>2024-08-04 06:16:55</td>\n",
       "      <td>2024-08-05 06:16:51</td>\n",
       "      <td>2024-08-06 06:16:45</td>\n",
       "      <td>NaN</td>\n",
       "    </tr>\n",
       "    <tr>\n",
       "      <th>sys_sunset</th>\n",
       "      <td>57</td>\n",
       "      <td>2024-08-04 20:04:21.157895168</td>\n",
       "      <td>2024-08-02 18:23:27</td>\n",
       "      <td>2024-08-03 18:23:24</td>\n",
       "      <td>2024-08-04 18:23:18</td>\n",
       "      <td>2024-08-05 18:23:14</td>\n",
       "      <td>2024-08-06 18:23:08</td>\n",
       "      <td>NaN</td>\n",
       "    </tr>\n",
       "    <tr>\n",
       "      <th>timezone</th>\n",
       "      <td>57.0</td>\n",
       "      <td>-18000.0</td>\n",
       "      <td>-18000.0</td>\n",
       "      <td>-18000.0</td>\n",
       "      <td>-18000.0</td>\n",
       "      <td>-18000.0</td>\n",
       "      <td>-18000.0</td>\n",
       "      <td>0.0</td>\n",
       "    </tr>\n",
       "    <tr>\n",
       "      <th>id</th>\n",
       "      <td>57.0</td>\n",
       "      <td>3652462.0</td>\n",
       "      <td>3652462.0</td>\n",
       "      <td>3652462.0</td>\n",
       "      <td>3652462.0</td>\n",
       "      <td>3652462.0</td>\n",
       "      <td>3652462.0</td>\n",
       "      <td>0.0</td>\n",
       "    </tr>\n",
       "    <tr>\n",
       "      <th>cod</th>\n",
       "      <td>57.0</td>\n",
       "      <td>200.0</td>\n",
       "      <td>200.0</td>\n",
       "      <td>200.0</td>\n",
       "      <td>200.0</td>\n",
       "      <td>200.0</td>\n",
       "      <td>200.0</td>\n",
       "      <td>0.0</td>\n",
       "    </tr>\n",
       "  </tbody>\n",
       "</table>\n",
       "</div>"
      ],
      "text/plain": [
       "                count                           mean                  min  \\\n",
       "dt                 57  2024-08-04 12:15:59.859649280  2024-08-02 23:45:02   \n",
       "coord_lon        57.0                     -78.523509              -78.525   \n",
       "coord_lat        57.0                      -0.230268              -0.2309   \n",
       "weather_0_id     57.0                     801.982456                800.0   \n",
       "main_temp        57.0                      12.139298                 5.53   \n",
       "main_feels_like  57.0                      11.520526                 4.49   \n",
       "main_temp_min    57.0                      12.139298                 5.53   \n",
       "main_temp_max    57.0                      12.139298                 5.53   \n",
       "main_pressure    57.0                    1017.473684               1012.0   \n",
       "main_humidity    57.0                      69.140351                 32.0   \n",
       "main_sea_level   57.0                    1017.473684               1012.0   \n",
       "main_grnd_level  57.0                     726.017544                719.0   \n",
       "visibility       57.0                    9749.596491               5801.0   \n",
       "wind_speed       57.0                        1.51193                 0.44   \n",
       "wind_deg         57.0                     160.684211                  6.0   \n",
       "wind_gust        57.0                       2.111053                  0.7   \n",
       "clouds_all       57.0                      40.859649                 10.0   \n",
       "sys_type         57.0                            1.0                  1.0   \n",
       "sys_id           57.0                         8555.0               8555.0   \n",
       "sys_sunrise        57  2024-08-04 07:57:58.157894656  2024-08-02 06:17:04   \n",
       "sys_sunset         57  2024-08-04 20:04:21.157895168  2024-08-02 18:23:27   \n",
       "timezone         57.0                       -18000.0             -18000.0   \n",
       "id               57.0                      3652462.0            3652462.0   \n",
       "cod              57.0                          200.0                200.0   \n",
       "\n",
       "                                 25%                  50%  \\\n",
       "dt               2024-08-03 11:09:10  2024-08-04 09:54:14   \n",
       "coord_lon                   -78.5249             -78.5249   \n",
       "coord_lat                    -0.2309              -0.2299   \n",
       "weather_0_id                   801.0                802.0   \n",
       "main_temp                       8.53                 9.66   \n",
       "main_feels_like                 8.53                 9.66   \n",
       "main_temp_min                   8.53                 9.66   \n",
       "main_temp_max                   8.53                 9.66   \n",
       "main_pressure                 1016.0               1018.0   \n",
       "main_humidity                   50.0                 84.0   \n",
       "main_sea_level                1016.0               1018.0   \n",
       "main_grnd_level                724.0                726.0   \n",
       "visibility                   10000.0              10000.0   \n",
       "wind_speed                      0.99                 1.17   \n",
       "wind_deg                        90.0                133.0   \n",
       "wind_gust                       1.32                 1.74   \n",
       "clouds_all                      15.0                 37.0   \n",
       "sys_type                         1.0                  1.0   \n",
       "sys_id                        8555.0               8555.0   \n",
       "sys_sunrise      2024-08-03 06:17:01  2024-08-04 06:16:55   \n",
       "sys_sunset       2024-08-03 18:23:24  2024-08-04 18:23:18   \n",
       "timezone                    -18000.0             -18000.0   \n",
       "id                         3652462.0            3652462.0   \n",
       "cod                            200.0                200.0   \n",
       "\n",
       "                                 75%                  max         std  \n",
       "dt               2024-08-05 00:30:02  2024-08-06 11:24:16         NaN  \n",
       "coord_lon                   -78.5211             -78.5211    0.001856  \n",
       "coord_lat                    -0.2299              -0.2299    0.000487  \n",
       "weather_0_id                   803.0                804.0     1.17247  \n",
       "main_temp                      15.53                21.66    4.640032  \n",
       "main_feels_like                 14.0                20.82     4.30918  \n",
       "main_temp_min                  15.53                21.66    4.640032  \n",
       "main_temp_max                  15.53                21.66    4.640032  \n",
       "main_pressure                 1019.0               1020.0    2.307637  \n",
       "main_humidity                   92.0                 94.0   23.497294  \n",
       "main_sea_level                1019.0               1020.0    2.307637  \n",
       "main_grnd_level                728.0                730.0    2.628764  \n",
       "visibility                   10000.0              10000.0  751.574915  \n",
       "wind_speed                      1.56                 4.05    0.922637  \n",
       "wind_deg                       171.0                356.0  118.036338  \n",
       "wind_gust                       2.11                  5.7    1.238843  \n",
       "clouds_all                      68.0                 97.0   28.592231  \n",
       "sys_type                         1.0                  1.0         0.0  \n",
       "sys_id                        8555.0               8555.0         0.0  \n",
       "sys_sunrise      2024-08-05 06:16:51  2024-08-06 06:16:45         NaN  \n",
       "sys_sunset       2024-08-05 18:23:14  2024-08-06 18:23:08         NaN  \n",
       "timezone                    -18000.0             -18000.0         0.0  \n",
       "id                         3652462.0            3652462.0         0.0  \n",
       "cod                            200.0                200.0         0.0  "
      ]
     },
     "execution_count": 10,
     "metadata": {},
     "output_type": "execute_result"
    }
   ],
   "source": [
    "df_etl.describe().transpose()"
   ]
  },
  {
   "cell_type": "code",
   "execution_count": 11,
   "id": "27fade28-37fd-475d-a070-d1893a109a44",
   "metadata": {},
   "outputs": [],
   "source": [
    "df_etl.to_csv('clima-quito-hoy-etl.csv', index=False)"
   ]
  },
  {
   "cell_type": "markdown",
   "id": "2d6ad91d-07e0-469d-9ceb-0b321708f067",
   "metadata": {},
   "source": [
    "### Presentación de Resultados\n",
    "\n",
    "Se procede a realizar gráficas de interés para estudiar el comportamiento climatológico"
   ]
  },
  {
   "cell_type": "code",
   "execution_count": 12,
   "id": "059d79c2-d08e-4b33-abc9-8d8f8a93c22b",
   "metadata": {},
   "outputs": [
    {
     "data": {
      "text/plain": [
       "Text(0.5, 1.0, 'Main Temp vs Time in Quito')"
      ]
     },
     "execution_count": 12,
     "metadata": {},
     "output_type": "execute_result"
    },
    {
     "data": {
      "image/png": "[encoded data removed]",
      "text/plain": [
       "<Figure size 640x480 with 1 Axes>"
      ]
     },
     "metadata": {},
     "output_type": "display_data"
    }
   ],
   "source": [
    "import matplotlib.pyplot as plt\n",
    "\n",
    "df_etl.plot.line('dt', 'main_temp')\n",
    "plt.grid()\n",
    "plt.title(f'Main Temp vs Time in {next(iter(set(df_etl.name)))}')"
   ]
  },
  {
   "cell_type": "code",
   "execution_count": 18,
   "id": "8bf3243b-bc62-496a-b495-6cc6de15dc62",
   "metadata": {},
   "outputs": [
    {
     "data": {
      "application/vnd.plotly.v1+json": {
       "config": {
        "plotlyServerURL": "https://plot.ly"
       },
       "data": [
        {
         "hovertemplate": "variable=main_temp<br>dt=%{x}<br>value=%{y}<extra></extra>",
         "legendgroup": "main_temp",
         "line": {
          "color": "#636efa",
          "dash": "solid"
         },
         "marker": {
          "symbol": "circle"
         },
         "mode": "lines",
         "name": "main_temp",
         "orientation": "v",
         "showlegend": true,
         "type": "scatter",
         "x": [
          "2024-08-02T23:45:02",
          "2024-08-02T23:51:42",
          "2024-08-03T00:15:02",
          "2024-08-03T00:27:43",
          "2024-08-03T00:45:02",
          "2024-08-03T00:59:22",
          "2024-08-03T01:25:26",
          "2024-08-03T01:45:03",
          "2024-08-03T01:57:32",
          "2024-08-03T02:13:58",
          "2024-08-03T02:25:15",
          "2024-08-03T02:43:26",
          "2024-08-03T10:44:01",
          "2024-08-03T10:54:26",
          "2024-08-03T11:09:10",
          "2024-08-03T11:26:16",
          "2024-08-03T11:39:53",
          "2024-08-03T11:59:01",
          "2024-08-03T12:10:26",
          "2024-08-03T12:20:10",
          "2024-08-03T12:52:29",
          "2024-08-03T13:12:35",
          "2024-08-03T13:26:16",
          "2024-08-03T21:57:57",
          "2024-08-03T22:10:16",
          "2024-08-04T08:39:48",
          "2024-08-04T08:52:13",
          "2024-08-04T09:15:02",
          "2024-08-04T09:54:14",
          "2024-08-04T10:15:02",
          "2024-08-04T10:26:16",
          "2024-08-04T20:37:31",
          "2024-08-04T20:58:56",
          "2024-08-04T21:13:40",
          "2024-08-04T21:30:02",
          "2024-08-04T22:37:24",
          "2024-08-04T22:50:26",
          "2024-08-04T23:11:47",
          "2024-08-04T23:26:16",
          "2024-08-04T23:45:00",
          "2024-08-05T00:00:02",
          "2024-08-05T00:13:23",
          "2024-08-05T00:30:02",
          "2024-08-06T00:45:03",
          "2024-08-06T00:55:47",
          "2024-08-06T01:13:12",
          "2024-08-06T01:40:05",
          "2024-08-06T09:14:06",
          "2024-08-06T09:26:16",
          "2024-08-06T09:37:01",
          "2024-08-06T09:37:01",
          "2024-08-06T09:56:53",
          "2024-08-06T10:05:50",
          "2024-08-06T10:25:37",
          "2024-08-06T10:43:48",
          "2024-08-06T11:12:24",
          "2024-08-06T11:24:16"
         ],
         "xaxis": "x",
         "y": [
          8.53,
          8.66,
          8.53,
          8.53,
          8.53,
          8.66,
          5.53,
          5.53,
          5.53,
          7.53,
          7.66,
          7.53,
          15.53,
          15.66,
          18.66,
          18.53,
          18.66,
          18.66,
          20.53,
          20.66,
          20.66,
          21.66,
          21.53,
          8.53,
          8.66,
          11.66,
          11.66,
          14.53,
          14.66,
          16.53,
          16.53,
          9.66,
          9.53,
          9.66,
          9.53,
          9.66,
          9.53,
          8.53,
          8.53,
          8.53,
          8.53,
          8.53,
          8.53,
          8.53,
          8.53,
          7.66,
          7.53,
          13.53,
          13.53,
          13.53,
          13.53,
          13.53,
          14.66,
          14.53,
          14.53,
          17.66,
          17.66
         ],
         "yaxis": "y"
        },
        {
         "hovertemplate": "variable=main_humidity<br>dt=%{x}<br>value=%{y}<extra></extra>",
         "legendgroup": "main_humidity",
         "line": {
          "color": "#EF553B",
          "dash": "solid"
         },
         "marker": {
          "symbol": "circle"
         },
         "mode": "lines",
         "name": "main_humidity",
         "orientation": "v",
         "showlegend": true,
         "type": "scatter",
         "x": [
          "2024-08-02T23:45:02",
          "2024-08-02T23:51:42",
          "2024-08-03T00:15:02",
          "2024-08-03T00:27:43",
          "2024-08-03T00:45:02",
          "2024-08-03T00:59:22",
          "2024-08-03T01:25:26",
          "2024-08-03T01:45:03",
          "2024-08-03T01:57:32",
          "2024-08-03T02:13:58",
          "2024-08-03T02:25:15",
          "2024-08-03T02:43:26",
          "2024-08-03T10:44:01",
          "2024-08-03T10:54:26",
          "2024-08-03T11:09:10",
          "2024-08-03T11:26:16",
          "2024-08-03T11:39:53",
          "2024-08-03T11:59:01",
          "2024-08-03T12:10:26",
          "2024-08-03T12:20:10",
          "2024-08-03T12:52:29",
          "2024-08-03T13:12:35",
          "2024-08-03T13:26:16",
          "2024-08-03T21:57:57",
          "2024-08-03T22:10:16",
          "2024-08-04T08:39:48",
          "2024-08-04T08:52:13",
          "2024-08-04T09:15:02",
          "2024-08-04T09:54:14",
          "2024-08-04T10:15:02",
          "2024-08-04T10:26:16",
          "2024-08-04T20:37:31",
          "2024-08-04T20:58:56",
          "2024-08-04T21:13:40",
          "2024-08-04T21:30:02",
          "2024-08-04T22:37:24",
          "2024-08-04T22:50:26",
          "2024-08-04T23:11:47",
          "2024-08-04T23:26:16",
          "2024-08-04T23:45:00",
          "2024-08-05T00:00:02",
          "2024-08-05T00:13:23",
          "2024-08-05T00:30:02",
          "2024-08-06T00:45:03",
          "2024-08-06T00:55:47",
          "2024-08-06T01:13:12",
          "2024-08-06T01:40:05",
          "2024-08-06T09:14:06",
          "2024-08-06T09:26:16",
          "2024-08-06T09:37:01",
          "2024-08-06T09:37:01",
          "2024-08-06T09:56:53",
          "2024-08-06T10:05:50",
          "2024-08-06T10:25:37",
          "2024-08-06T10:43:48",
          "2024-08-06T11:12:24",
          "2024-08-06T11:24:16"
         ],
         "xaxis": "x",
         "y": [
          88,
          88,
          88,
          88,
          92,
          87,
          87,
          85,
          85,
          85,
          84,
          81,
          33,
          32,
          32,
          33,
          33,
          33,
          34,
          33,
          36,
          36,
          37,
          90,
          90,
          60,
          60,
          60,
          50,
          51,
          51,
          92,
          92,
          92,
          94,
          93,
          93,
          93,
          93,
          92,
          92,
          92,
          91,
          92,
          92,
          92,
          94,
          64,
          64,
          54,
          54,
          54,
          54,
          54,
          48,
          47,
          47
         ],
         "yaxis": "y"
        }
       ],
       "layout": {
        "autosize": true,
        "legend": {
         "title": {
          "text": "variable"
         },
         "tracegroupgap": 0
        },
        "template": {
         "data": {
          "bar": [
           {
            "error_x": {
             "color": "#2a3f5f"
            },
            "error_y": {
             "color": "#2a3f5f"
            },
            "marker": {
             "line": {
              "color": "#E5ECF6",
              "width": 0.5
             },
             "pattern": {
              "fillmode": "overlay",
              "size": 10,
              "solidity": 0.2
             }
            },
            "type": "bar"
           }
          ],
          "barpolar": [
           {
            "marker": {
             "line": {
              "color": "#E5ECF6",
              "width": 0.5
             },
             "pattern": {
              "fillmode": "overlay",
              "size": 10,
              "solidity": 0.2
             }
            },
            "type": "barpolar"
           }
          ],
          "carpet": [
           {
            "aaxis": {
             "endlinecolor": "#2a3f5f",
             "gridcolor": "white",
             "linecolor": "white",
             "minorgridcolor": "white",
             "startlinecolor": "#2a3f5f"
            },
            "baxis": {
             "endlinecolor": "#2a3f5f",
             "gridcolor": "white",
             "linecolor": "white",
             "minorgridcolor": "white",
             "startlinecolor": "#2a3f5f"
            },
            "type": "carpet"
           }
          ],
          "choropleth": [
           {
            "colorbar": {
             "outlinewidth": 0,
             "ticks": ""
            },
            "type": "choropleth"
           }
          ],
          "contour": [
           {
            "colorbar": {
             "outlinewidth": 0,
             "ticks": ""
            },
            "colorscale": [
             [
              0,
              "#0d0887"
             ],
             [
              0.1111111111111111,
              "#46039f"
             ],
             [
              0.2222222222222222,
              "#7201a8"
             ],
             [
              0.3333333333333333,
              "#9c179e"
             ],
             [
              0.4444444444444444,
              "#bd3786"
             ],
             [
              0.5555555555555556,
              "#d8576b"
             ],
             [
              0.6666666666666666,
              "#ed7953"
             ],
             [
              0.7777777777777778,
              "#fb9f3a"
             ],
             [
              0.8888888888888888,
              "#fdca26"
             ],
             [
              1,
              "#f0f921"
             ]
            ],
            "type": "contour"
           }
          ],
          "contourcarpet": [
           {
            "colorbar": {
             "outlinewidth": 0,
             "ticks": ""
            },
            "type": "contourcarpet"
           }
          ],
          "heatmap": [
           {
            "colorbar": {
             "outlinewidth": 0,
             "ticks": ""
            },
            "colorscale": [
             [
              0,
              "#0d0887"
             ],
             [
              0.1111111111111111,
              "#46039f"
             ],
             [
              0.2222222222222222,
              "#7201a8"
             ],
             [
              0.3333333333333333,
              "#9c179e"
             ],
             [
              0.4444444444444444,
              "#bd3786"
             ],
             [
              0.5555555555555556,
              "#d8576b"
             ],
             [
              0.6666666666666666,
              "#ed7953"
             ],
             [
              0.7777777777777778,
              "#fb9f3a"
             ],
             [
              0.8888888888888888,
              "#fdca26"
             ],
             [
              1,
              "#f0f921"
             ]
            ],
            "type": "heatmap"
           }
          ],
          "heatmapgl": [
           {
            "colorbar": {
             "outlinewidth": 0,
             "ticks": ""
            },
            "colorscale": [
             [
              0,
              "#0d0887"
             ],
             [
              0.1111111111111111,
              "#46039f"
             ],
             [
              0.2222222222222222,
              "#7201a8"
             ],
             [
              0.3333333333333333,
              "#9c179e"
             ],
             [
              0.4444444444444444,
              "#bd3786"
             ],
             [
              0.5555555555555556,
              "#d8576b"
             ],
             [
              0.6666666666666666,
              "#ed7953"
             ],
             [
              0.7777777777777778,
              "#fb9f3a"
             ],
             [
              0.8888888888888888,
              "#fdca26"
             ],
             [
              1,
              "#f0f921"
             ]
            ],
            "type": "heatmapgl"
           }
          ],
          "histogram": [
           {
            "marker": {
             "pattern": {
              "fillmode": "overlay",
              "size": 10,
              "solidity": 0.2
             }
            },
            "type": "histogram"
           }
          ],
          "histogram2d": [
           {
            "colorbar": {
             "outlinewidth": 0,
             "ticks": ""
            },
            "colorscale": [
             [
              0,
              "#0d0887"
             ],
             [
              0.1111111111111111,
              "#46039f"
             ],
             [
              0.2222222222222222,
              "#7201a8"
             ],
             [
              0.3333333333333333,
              "#9c179e"
             ],
             [
              0.4444444444444444,
              "#bd3786"
             ],
             [
              0.5555555555555556,
              "#d8576b"
             ],
             [
              0.6666666666666666,
              "#ed7953"
             ],
             [
              0.7777777777777778,
              "#fb9f3a"
             ],
             [
              0.8888888888888888,
              "#fdca26"
             ],
             [
              1,
              "#f0f921"
             ]
            ],
            "type": "histogram2d"
           }
          ],
          "histogram2dcontour": [
           {
            "colorbar": {
             "outlinewidth": 0,
             "ticks": ""
            },
            "colorscale": [
             [
              0,
              "#0d0887"
             ],
             [
              0.1111111111111111,
              "#46039f"
             ],
             [
              0.2222222222222222,
              "#7201a8"
             ],
             [
              0.3333333333333333,
              "#9c179e"
             ],
             [
              0.4444444444444444,
              "#bd3786"
             ],
             [
              0.5555555555555556,
              "#d8576b"
             ],
             [
              0.6666666666666666,
              "#ed7953"
             ],
             [
              0.7777777777777778,
              "#fb9f3a"
             ],
             [
              0.8888888888888888,
              "#fdca26"
             ],
             [
              1,
              "#f0f921"
             ]
            ],
            "type": "histogram2dcontour"
           }
          ],
          "mesh3d": [
           {
            "colorbar": {
             "outlinewidth": 0,
             "ticks": ""
            },
            "type": "mesh3d"
           }
          ],
          "parcoords": [
           {
            "line": {
             "colorbar": {
              "outlinewidth": 0,
              "ticks": ""
             }
            },
            "type": "parcoords"
           }
          ],
          "pie": [
           {
            "automargin": true,
            "type": "pie"
           }
          ],
          "scatter": [
           {
            "fillpattern": {
             "fillmode": "overlay",
             "size": 10,
             "solidity": 0.2
            },
            "type": "scatter"
           }
          ],
          "scatter3d": [
           {
            "line": {
             "colorbar": {
              "outlinewidth": 0,
              "ticks": ""
             }
            },
            "marker": {
             "colorbar": {
              "outlinewidth": 0,
              "ticks": ""
             }
            },
            "type": "scatter3d"
           }
          ],
          "scattercarpet": [
           {
            "marker": {
             "colorbar": {
              "outlinewidth": 0,
              "ticks": ""
             }
            },
            "type": "scattercarpet"
           }
          ],
          "scattergeo": [
           {
            "marker": {
             "colorbar": {
              "outlinewidth": 0,
              "ticks": ""
             }
            },
            "type": "scattergeo"
           }
          ],
          "scattergl": [
           {
            "marker": {
             "colorbar": {
              "outlinewidth": 0,
              "ticks": ""
             }
            },
            "type": "scattergl"
           }
          ],
          "scattermapbox": [
           {
            "marker": {
             "colorbar": {
              "outlinewidth": 0,
              "ticks": ""
             }
            },
            "type": "scattermapbox"
           }
          ],
          "scatterpolar": [
           {
            "marker": {
             "colorbar": {
              "outlinewidth": 0,
              "ticks": ""
             }
            },
            "type": "scatterpolar"
           }
          ],
          "scatterpolargl": [
           {
            "marker": {
             "colorbar": {
              "outlinewidth": 0,
              "ticks": ""
             }
            },
            "type": "scatterpolargl"
           }
          ],
          "scatterternary": [
           {
            "marker": {
             "colorbar": {
              "outlinewidth": 0,
              "ticks": ""
             }
            },
            "type": "scatterternary"
           }
          ],
          "surface": [
           {
            "colorbar": {
             "outlinewidth": 0,
             "ticks": ""
            },
            "colorscale": [
             [
              0,
              "#0d0887"
             ],
             [
              0.1111111111111111,
              "#46039f"
             ],
             [
              0.2222222222222222,
              "#7201a8"
             ],
             [
              0.3333333333333333,
              "#9c179e"
             ],
             [
              0.4444444444444444,
              "#bd3786"
             ],
             [
              0.5555555555555556,
              "#d8576b"
             ],
             [
              0.6666666666666666,
              "#ed7953"
             ],
             [
              0.7777777777777778,
              "#fb9f3a"
             ],
             [
              0.8888888888888888,
              "#fdca26"
             ],
             [
              1,
              "#f0f921"
             ]
            ],
            "type": "surface"
           }
          ],
          "table": [
           {
            "cells": {
             "fill": {
              "color": "#EBF0F8"
             },
             "line": {
              "color": "white"
             }
            },
            "header": {
             "fill": {
              "color": "#C8D4E3"
             },
             "line": {
              "color": "white"
             }
            },
            "type": "table"
           }
          ]
         },
         "layout": {
          "annotationdefaults": {
           "arrowcolor": "#2a3f5f",
           "arrowhead": 0,
           "arrowwidth": 1
          },
          "autotypenumbers": "strict",
          "coloraxis": {
           "colorbar": {
            "outlinewidth": 0,
            "ticks": ""
           }
          },
          "colorscale": {
           "diverging": [
            [
             0,
             "#8e0152"
            ],
            [
             0.1,
             "#c51b7d"
            ],
            [
             0.2,
             "#de77ae"
            ],
            [
             0.3,
             "#f1b6da"
            ],
            [
             0.4,
             "#fde0ef"
            ],
            [
             0.5,
             "#f7f7f7"
            ],
            [
             0.6,
             "#e6f5d0"
            ],
            [
             0.7,
             "#b8e186"
            ],
            [
             0.8,
             "#7fbc41"
            ],
            [
             0.9,
             "#4d9221"
            ],
            [
             1,
             "#276419"
            ]
           ],
           "sequential": [
            [
             0,
             "#0d0887"
            ],
            [
             0.1111111111111111,
             "#46039f"
            ],
            [
             0.2222222222222222,
             "#7201a8"
            ],
            [
             0.3333333333333333,
             "#9c179e"
            ],
            [
             0.4444444444444444,
             "#bd3786"
            ],
            [
             0.5555555555555556,
             "#d8576b"
            ],
            [
             0.6666666666666666,
             "#ed7953"
            ],
            [
             0.7777777777777778,
             "#fb9f3a"
            ],
            [
             0.8888888888888888,
             "#fdca26"
            ],
            [
             1,
             "#f0f921"
            ]
           ],
           "sequentialminus": [
            [
             0,
             "#0d0887"
            ],
            [
             0.1111111111111111,
             "#46039f"
            ],
            [
             0.2222222222222222,
             "#7201a8"
            ],
            [
             0.3333333333333333,
             "#9c179e"
            ],
            [
             0.4444444444444444,
             "#bd3786"
            ],
            [
             0.5555555555555556,
             "#d8576b"
            ],
            [
             0.6666666666666666,
             "#ed7953"
            ],
            [
             0.7777777777777778,
             "#fb9f3a"
            ],
            [
             0.8888888888888888,
             "#fdca26"
            ],
            [
             1,
             "#f0f921"
            ]
           ]
          },
          "colorway": [
           "#636efa",
           "#EF553B",
           "#00cc96",
           "#ab63fa",
           "#FFA15A",
           "#19d3f3",
           "#FF6692",
           "#B6E880",
           "#FF97FF",
           "#FECB52"
          ],
          "font": {
           "color": "#2a3f5f"
          },
          "geo": {
           "bgcolor": "white",
           "lakecolor": "white",
           "landcolor": "#E5ECF6",
           "showlakes": true,
           "showland": true,
           "subunitcolor": "white"
          },
          "hoverlabel": {
           "align": "left"
          },
          "hovermode": "closest",
          "mapbox": {
           "style": "light"
          },
          "paper_bgcolor": "white",
          "plot_bgcolor": "#E5ECF6",
          "polar": {
           "angularaxis": {
            "gridcolor": "white",
            "linecolor": "white",
            "ticks": ""
           },
           "bgcolor": "#E5ECF6",
           "radialaxis": {
            "gridcolor": "white",
            "linecolor": "white",
            "ticks": ""
           }
          },
          "scene": {
           "xaxis": {
            "backgroundcolor": "#E5ECF6",
            "gridcolor": "white",
            "gridwidth": 2,
            "linecolor": "white",
            "showbackground": true,
            "ticks": "",
            "zerolinecolor": "white"
           },
           "yaxis": {
            "backgroundcolor": "#E5ECF6",
            "gridcolor": "white",
            "gridwidth": 2,
            "linecolor": "white",
            "showbackground": true,
            "ticks": "",
            "zerolinecolor": "white"
           },
           "zaxis": {
            "backgroundcolor": "#E5ECF6",
            "gridcolor": "white",
            "gridwidth": 2,
            "linecolor": "white",
            "showbackground": true,
            "ticks": "",
            "zerolinecolor": "white"
           }
          },
          "shapedefaults": {
           "line": {
            "color": "#2a3f5f"
           }
          },
          "ternary": {
           "aaxis": {
            "gridcolor": "white",
            "linecolor": "white",
            "ticks": ""
           },
           "baxis": {
            "gridcolor": "white",
            "linecolor": "white",
            "ticks": ""
           },
           "bgcolor": "#E5ECF6",
           "caxis": {
            "gridcolor": "white",
            "linecolor": "white",
            "ticks": ""
           }
          },
          "title": {
           "x": 0.05
          },
          "xaxis": {
           "automargin": true,
           "gridcolor": "white",
           "linecolor": "white",
           "ticks": "",
           "title": {
            "standoff": 15
           },
           "zerolinecolor": "white",
           "zerolinewidth": 2
          },
          "yaxis": {
           "automargin": true,
           "gridcolor": "white",
           "linecolor": "white",
           "ticks": "",
           "title": {
            "standoff": 15
           },
           "zerolinecolor": "white",
           "zerolinewidth": 2
          }
         }
        },
        "title": {
         "text": "Main Tem & Humidity vs Time in Quito"
        },
        "xaxis": {
         "anchor": "y",
         "autorange": true,
         "domain": [
          0,
          1
         ],
         "range": [
          "2024-08-02 23:45:02",
          "2024-08-06 11:24:16"
         ],
         "title": {
          "text": "dt"
         },
         "type": "date"
        },
        "yaxis": {
         "anchor": "x",
         "autorange": true,
         "domain": [
          0,
          1
         ],
         "range": [
          0.6150000000000002,
          98.915
         ],
         "title": {
          "text": "value"
         },
         "type": "linear"
        }
       }
      },
      "image/png": "[encoded data removed]",
      "text/html": [
       "<div>                            <div id=\"380fad53-cb63-4279-aaf3-9dc6afb446ea\" class=\"plotly-graph-div\" style=\"height:525px; width:100%;\"></div>            <script type=\"text/javascript\">                require([\"plotly\"], function(Plotly) {                    window.PLOTLYENV=window.PLOTLYENV || {};                                    if (document.getElementById(\"380fad53-cb63-4279-aaf3-9dc6afb446ea\")) {                    Plotly.newPlot(                        \"380fad53-cb63-4279-aaf3-9dc6afb446ea\",                        [{\"hovertemplate\":\"variable=main_temp\\u003cbr\\u003edt=%{x}\\u003cbr\\u003evalue=%{y}\\u003cextra\\u003e\\u003c\\u002fextra\\u003e\",\"legendgroup\":\"main_temp\",\"line\":{\"color\":\"#636efa\",\"dash\":\"solid\"},\"marker\":{\"symbol\":\"circle\"},\"mode\":\"lines\",\"name\":\"main_temp\",\"orientation\":\"v\",\"showlegend\":true,\"x\":[\"2024-08-02T23:45:02\",\"2024-08-02T23:51:42\",\"2024-08-03T00:15:02\",\"2024-08-03T00:27:43\",\"2024-08-03T00:45:02\",\"2024-08-03T00:59:22\",\"2024-08-03T01:25:26\",\"2024-08-03T01:45:03\",\"2024-08-03T01:57:32\",\"2024-08-03T02:13:58\",\"2024-08-03T02:25:15\",\"2024-08-03T02:43:26\",\"2024-08-03T10:44:01\",\"2024-08-03T10:54:26\",\"2024-08-03T11:09:10\",\"2024-08-03T11:26:16\",\"2024-08-03T11:39:53\",\"2024-08-03T11:59:01\",\"2024-08-03T12:10:26\",\"2024-08-03T12:20:10\",\"2024-08-03T12:52:29\",\"2024-08-03T13:12:35\",\"2024-08-03T13:26:16\",\"2024-08-03T21:57:57\",\"2024-08-03T22:10:16\",\"2024-08-04T08:39:48\",\"2024-08-04T08:52:13\",\"2024-08-04T09:15:02\",\"2024-08-04T09:54:14\",\"2024-08-04T10:15:02\",\"2024-08-04T10:26:16\",\"2024-08-04T20:37:31\",\"2024-08-04T20:58:56\",\"2024-08-04T21:13:40\",\"2024-08-04T21:30:02\",\"2024-08-04T22:37:24\",\"2024-08-04T22:50:26\",\"2024-08-04T23:11:47\",\"2024-08-04T23:26:16\",\"2024-08-04T23:45:00\",\"2024-08-05T00:00:02\",\"2024-08-05T00:13:23\",\"2024-08-05T00:30:02\",\"2024-08-06T00:45:03\",\"2024-08-06T00:55:47\",\"2024-08-06T01:13:12\",\"2024-08-06T01:40:05\",\"2024-08-06T09:14:06\",\"2024-08-06T09:26:16\",\"2024-08-06T09:37:01\",\"2024-08-06T09:37:01\",\"2024-08-06T09:56:53\",\"2024-08-06T10:05:50\",\"2024-08-06T10:25:37\",\"2024-08-06T10:43:48\",\"2024-08-06T11:12:24\",\"2024-08-06T11:24:16\"],\"xaxis\":\"x\",\"y\":[8.53,8.66,8.53,8.53,8.53,8.66,5.53,5.53,5.53,7.53,7.66,7.53,15.53,15.66,18.66,18.53,18.66,18.66,20.53,20.66,20.66,21.66,21.53,8.53,8.66,11.66,11.66,14.53,14.66,16.53,16.53,9.66,9.53,9.66,9.53,9.66,9.53,8.53,8.53,8.53,8.53,8.53,8.53,8.53,8.53,7.66,7.53,13.53,13.53,13.53,13.53,13.53,14.66,14.53,14.53,17.66,17.66],\"yaxis\":\"y\",\"type\":\"scatter\"},{\"hovertemplate\":\"variable=main_humidity\\u003cbr\\u003edt=%{x}\\u003cbr\\u003evalue=%{y}\\u003cextra\\u003e\\u003c\\u002fextra\\u003e\",\"legendgroup\":\"main_humidity\",\"line\":{\"color\":\"#EF553B\",\"dash\":\"solid\"},\"marker\":{\"symbol\":\"circle\"},\"mode\":\"lines\",\"name\":\"main_humidity\",\"orientation\":\"v\",\"showlegend\":true,\"x\":[\"2024-08-02T23:45:02\",\"2024-08-02T23:51:42\",\"2024-08-03T00:15:02\",\"2024-08-03T00:27:43\",\"2024-08-03T00:45:02\",\"2024-08-03T00:59:22\",\"2024-08-03T01:25:26\",\"2024-08-03T01:45:03\",\"2024-08-03T01:57:32\",\"2024-08-03T02:13:58\",\"2024-08-03T02:25:15\",\"2024-08-03T02:43:26\",\"2024-08-03T10:44:01\",\"2024-08-03T10:54:26\",\"2024-08-03T11:09:10\",\"2024-08-03T11:26:16\",\"2024-08-03T11:39:53\",\"2024-08-03T11:59:01\",\"2024-08-03T12:10:26\",\"2024-08-03T12:20:10\",\"2024-08-03T12:52:29\",\"2024-08-03T13:12:35\",\"2024-08-03T13:26:16\",\"2024-08-03T21:57:57\",\"2024-08-03T22:10:16\",\"2024-08-04T08:39:48\",\"2024-08-04T08:52:13\",\"2024-08-04T09:15:02\",\"2024-08-04T09:54:14\",\"2024-08-04T10:15:02\",\"2024-08-04T10:26:16\",\"2024-08-04T20:37:31\",\"2024-08-04T20:58:56\",\"2024-08-04T21:13:40\",\"2024-08-04T21:30:02\",\"2024-08-04T22:37:24\",\"2024-08-04T22:50:26\",\"2024-08-04T23:11:47\",\"2024-08-04T23:26:16\",\"2024-08-04T23:45:00\",\"2024-08-05T00:00:02\",\"2024-08-05T00:13:23\",\"2024-08-05T00:30:02\",\"2024-08-06T00:45:03\",\"2024-08-06T00:55:47\",\"2024-08-06T01:13:12\",\"2024-08-06T01:40:05\",\"2024-08-06T09:14:06\",\"2024-08-06T09:26:16\",\"2024-08-06T09:37:01\",\"2024-08-06T09:37:01\",\"2024-08-06T09:56:53\",\"2024-08-06T10:05:50\",\"2024-08-06T10:25:37\",\"2024-08-06T10:43:48\",\"2024-08-06T11:12:24\",\"2024-08-06T11:24:16\"],\"xaxis\":\"x\",\"y\":[88.0,88.0,88.0,88.0,92.0,87.0,87.0,85.0,85.0,85.0,84.0,81.0,33.0,32.0,32.0,33.0,33.0,33.0,34.0,33.0,36.0,36.0,37.0,90.0,90.0,60.0,60.0,60.0,50.0,51.0,51.0,92.0,92.0,92.0,94.0,93.0,93.0,93.0,93.0,92.0,92.0,92.0,91.0,92.0,92.0,92.0,94.0,64.0,64.0,54.0,54.0,54.0,54.0,54.0,48.0,47.0,47.0],\"yaxis\":\"y\",\"type\":\"scatter\"}],                        {\"template\":{\"data\":{\"histogram2dcontour\":[{\"type\":\"histogram2dcontour\",\"colorbar\":{\"outlinewidth\":0,\"ticks\":\"\"},\"colorscale\":[[0.0,\"#0d0887\"],[0.1111111111111111,\"#46039f\"],[0.2222222222222222,\"#7201a8\"],[0.3333333333333333,\"#9c179e\"],[0.4444444444444444,\"#bd3786\"],[0.5555555555555556,\"#d8576b\"],[0.6666666666666666,\"#ed7953\"],[0.7777777777777778,\"#fb9f3a\"],[0.8888888888888888,\"#fdca26\"],[1.0,\"#f0f921\"]]}],\"choropleth\":[{\"type\":\"choropleth\",\"colorbar\":{\"outlinewidth\":0,\"ticks\":\"\"}}],\"histogram2d\":[{\"type\":\"histogram2d\",\"colorbar\":{\"outlinewidth\":0,\"ticks\":\"\"},\"colorscale\":[[0.0,\"#0d0887\"],[0.1111111111111111,\"#46039f\"],[0.2222222222222222,\"#7201a8\"],[0.3333333333333333,\"#9c179e\"],[0.4444444444444444,\"#bd3786\"],[0.5555555555555556,\"#d8576b\"],[0.6666666666666666,\"#ed7953\"],[0.7777777777777778,\"#fb9f3a\"],[0.8888888888888888,\"#fdca26\"],[1.0,\"#f0f921\"]]}],\"heatmap\":[{\"type\":\"heatmap\",\"colorbar\":{\"outlinewidth\":0,\"ticks\":\"\"},\"colorscale\":[[0.0,\"#0d0887\"],[0.1111111111111111,\"#46039f\"],[0.2222222222222222,\"#7201a8\"],[0.3333333333333333,\"#9c179e\"],[0.4444444444444444,\"#bd3786\"],[0.5555555555555556,\"#d8576b\"],[0.6666666666666666,\"#ed7953\"],[0.7777777777777778,\"#fb9f3a\"],[0.8888888888888888,\"#fdca26\"],[1.0,\"#f0f921\"]]}],\"heatmapgl\":[{\"type\":\"heatmapgl\",\"colorbar\":{\"outlinewidth\":0,\"ticks\":\"\"},\"colorscale\":[[0.0,\"#0d0887\"],[0.1111111111111111,\"#46039f\"],[0.2222222222222222,\"#7201a8\"],[0.3333333333333333,\"#9c179e\"],[0.4444444444444444,\"#bd3786\"],[0.5555555555555556,\"#d8576b\"],[0.6666666666666666,\"#ed7953\"],[0.7777777777777778,\"#fb9f3a\"],[0.8888888888888888,\"#fdca26\"],[1.0,\"#f0f921\"]]}],\"contourcarpet\":[{\"type\":\"contourcarpet\",\"colorbar\":{\"outlinewidth\":0,\"ticks\":\"\"}}],\"contour\":[{\"type\":\"contour\",\"colorbar\":{\"outlinewidth\":0,\"ticks\":\"\"},\"colorscale\":[[0.0,\"#0d0887\"],[0.1111111111111111,\"#46039f\"],[0.2222222222222222,\"#7201a8\"],[0.3333333333333333,\"#9c179e\"],[0.4444444444444444,\"#bd3786\"],[0.5555555555555556,\"#d8576b\"],[0.6666666666666666,\"#ed7953\"],[0.7777777777777778,\"#fb9f3a\"],[0.8888888888888888,\"#fdca26\"],[1.0,\"#f0f921\"]]}],\"surface\":[{\"type\":\"surface\",\"colorbar\":{\"outlinewidth\":0,\"ticks\":\"\"},\"colorscale\":[[0.0,\"#0d0887\"],[0.1111111111111111,\"#46039f\"],[0.2222222222222222,\"#7201a8\"],[0.3333333333333333,\"#9c179e\"],[0.4444444444444444,\"#bd3786\"],[0.5555555555555556,\"#d8576b\"],[0.6666666666666666,\"#ed7953\"],[0.7777777777777778,\"#fb9f3a\"],[0.8888888888888888,\"#fdca26\"],[1.0,\"#f0f921\"]]}],\"mesh3d\":[{\"type\":\"mesh3d\",\"colorbar\":{\"outlinewidth\":0,\"ticks\":\"\"}}],\"scatter\":[{\"fillpattern\":{\"fillmode\":\"overlay\",\"size\":10,\"solidity\":0.2},\"type\":\"scatter\"}],\"parcoords\":[{\"type\":\"parcoords\",\"line\":{\"colorbar\":{\"outlinewidth\":0,\"ticks\":\"\"}}}],\"scatterpolargl\":[{\"type\":\"scatterpolargl\",\"marker\":{\"colorbar\":{\"outlinewidth\":0,\"ticks\":\"\"}}}],\"bar\":[{\"error_x\":{\"color\":\"#2a3f5f\"},\"error_y\":{\"color\":\"#2a3f5f\"},\"marker\":{\"line\":{\"color\":\"#E5ECF6\",\"width\":0.5},\"pattern\":{\"fillmode\":\"overlay\",\"size\":10,\"solidity\":0.2}},\"type\":\"bar\"}],\"scattergeo\":[{\"type\":\"scattergeo\",\"marker\":{\"colorbar\":{\"outlinewidth\":0,\"ticks\":\"\"}}}],\"scatterpolar\":[{\"type\":\"scatterpolar\",\"marker\":{\"colorbar\":{\"outlinewidth\":0,\"ticks\":\"\"}}}],\"histogram\":[{\"marker\":{\"pattern\":{\"fillmode\":\"overlay\",\"size\":10,\"solidity\":0.2}},\"type\":\"histogram\"}],\"scattergl\":[{\"type\":\"scattergl\",\"marker\":{\"colorbar\":{\"outlinewidth\":0,\"ticks\":\"\"}}}],\"scatter3d\":[{\"type\":\"scatter3d\",\"line\":{\"colorbar\":{\"outlinewidth\":0,\"ticks\":\"\"}},\"marker\":{\"colorbar\":{\"outlinewidth\":0,\"ticks\":\"\"}}}],\"scattermapbox\":[{\"type\":\"scattermapbox\",\"marker\":{\"colorbar\":{\"outlinewidth\":0,\"ticks\":\"\"}}}],\"scatterternary\":[{\"type\":\"scatterternary\",\"marker\":{\"colorbar\":{\"outlinewidth\":0,\"ticks\":\"\"}}}],\"scattercarpet\":[{\"type\":\"scattercarpet\",\"marker\":{\"colorbar\":{\"outlinewidth\":0,\"ticks\":\"\"}}}],\"carpet\":[{\"aaxis\":{\"endlinecolor\":\"#2a3f5f\",\"gridcolor\":\"white\",\"linecolor\":\"white\",\"minorgridcolor\":\"white\",\"startlinecolor\":\"#2a3f5f\"},\"baxis\":{\"endlinecolor\":\"#2a3f5f\",\"gridcolor\":\"white\",\"linecolor\":\"white\",\"minorgridcolor\":\"white\",\"startlinecolor\":\"#2a3f5f\"},\"type\":\"carpet\"}],\"table\":[{\"cells\":{\"fill\":{\"color\":\"#EBF0F8\"},\"line\":{\"color\":\"white\"}},\"header\":{\"fill\":{\"color\":\"#C8D4E3\"},\"line\":{\"color\":\"white\"}},\"type\":\"table\"}],\"barpolar\":[{\"marker\":{\"line\":{\"color\":\"#E5ECF6\",\"width\":0.5},\"pattern\":{\"fillmode\":\"overlay\",\"size\":10,\"solidity\":0.2}},\"type\":\"barpolar\"}],\"pie\":[{\"automargin\":true,\"type\":\"pie\"}]},\"layout\":{\"autotypenumbers\":\"strict\",\"colorway\":[\"#636efa\",\"#EF553B\",\"#00cc96\",\"#ab63fa\",\"#FFA15A\",\"#19d3f3\",\"#FF6692\",\"#B6E880\",\"#FF97FF\",\"#FECB52\"],\"font\":{\"color\":\"#2a3f5f\"},\"hovermode\":\"closest\",\"hoverlabel\":{\"align\":\"left\"},\"paper_bgcolor\":\"white\",\"plot_bgcolor\":\"#E5ECF6\",\"polar\":{\"bgcolor\":\"#E5ECF6\",\"angularaxis\":{\"gridcolor\":\"white\",\"linecolor\":\"white\",\"ticks\":\"\"},\"radialaxis\":{\"gridcolor\":\"white\",\"linecolor\":\"white\",\"ticks\":\"\"}},\"ternary\":{\"bgcolor\":\"#E5ECF6\",\"aaxis\":{\"gridcolor\":\"white\",\"linecolor\":\"white\",\"ticks\":\"\"},\"baxis\":{\"gridcolor\":\"white\",\"linecolor\":\"white\",\"ticks\":\"\"},\"caxis\":{\"gridcolor\":\"white\",\"linecolor\":\"white\",\"ticks\":\"\"}},\"coloraxis\":{\"colorbar\":{\"outlinewidth\":0,\"ticks\":\"\"}},\"colorscale\":{\"sequential\":[[0.0,\"#0d0887\"],[0.1111111111111111,\"#46039f\"],[0.2222222222222222,\"#7201a8\"],[0.3333333333333333,\"#9c179e\"],[0.4444444444444444,\"#bd3786\"],[0.5555555555555556,\"#d8576b\"],[0.6666666666666666,\"#ed7953\"],[0.7777777777777778,\"#fb9f3a\"],[0.8888888888888888,\"#fdca26\"],[1.0,\"#f0f921\"]],\"sequentialminus\":[[0.0,\"#0d0887\"],[0.1111111111111111,\"#46039f\"],[0.2222222222222222,\"#7201a8\"],[0.3333333333333333,\"#9c179e\"],[0.4444444444444444,\"#bd3786\"],[0.5555555555555556,\"#d8576b\"],[0.6666666666666666,\"#ed7953\"],[0.7777777777777778,\"#fb9f3a\"],[0.8888888888888888,\"#fdca26\"],[1.0,\"#f0f921\"]],\"diverging\":[[0,\"#8e0152\"],[0.1,\"#c51b7d\"],[0.2,\"#de77ae\"],[0.3,\"#f1b6da\"],[0.4,\"#fde0ef\"],[0.5,\"#f7f7f7\"],[0.6,\"#e6f5d0\"],[0.7,\"#b8e186\"],[0.8,\"#7fbc41\"],[0.9,\"#4d9221\"],[1,\"#276419\"]]},\"xaxis\":{\"gridcolor\":\"white\",\"linecolor\":\"white\",\"ticks\":\"\",\"title\":{\"standoff\":15},\"zerolinecolor\":\"white\",\"automargin\":true,\"zerolinewidth\":2},\"yaxis\":{\"gridcolor\":\"white\",\"linecolor\":\"white\",\"ticks\":\"\",\"title\":{\"standoff\":15},\"zerolinecolor\":\"white\",\"automargin\":true,\"zerolinewidth\":2},\"scene\":{\"xaxis\":{\"backgroundcolor\":\"#E5ECF6\",\"gridcolor\":\"white\",\"linecolor\":\"white\",\"showbackground\":true,\"ticks\":\"\",\"zerolinecolor\":\"white\",\"gridwidth\":2},\"yaxis\":{\"backgroundcolor\":\"#E5ECF6\",\"gridcolor\":\"white\",\"linecolor\":\"white\",\"showbackground\":true,\"ticks\":\"\",\"zerolinecolor\":\"white\",\"gridwidth\":2},\"zaxis\":{\"backgroundcolor\":\"#E5ECF6\",\"gridcolor\":\"white\",\"linecolor\":\"white\",\"showbackground\":true,\"ticks\":\"\",\"zerolinecolor\":\"white\",\"gridwidth\":2}},\"shapedefaults\":{\"line\":{\"color\":\"#2a3f5f\"}},\"annotationdefaults\":{\"arrowcolor\":\"#2a3f5f\",\"arrowhead\":0,\"arrowwidth\":1},\"geo\":{\"bgcolor\":\"white\",\"landcolor\":\"#E5ECF6\",\"subunitcolor\":\"white\",\"showland\":true,\"showlakes\":true,\"lakecolor\":\"white\"},\"title\":{\"x\":0.05},\"mapbox\":{\"style\":\"light\"}}},\"xaxis\":{\"anchor\":\"y\",\"domain\":[0.0,1.0],\"title\":{\"text\":\"dt\"}},\"yaxis\":{\"anchor\":\"x\",\"domain\":[0.0,1.0],\"title\":{\"text\":\"value\"}},\"legend\":{\"title\":{\"text\":\"variable\"},\"tracegroupgap\":0},\"title\":{\"text\":\"Main Tem & Humidity vs Time in Quito\"}},                        {\"responsive\": true}                    ).then(function(){\n",
       "                            \n",
       "var gd = document.getElementById('380fad53-cb63-4279-aaf3-9dc6afb446ea');\n",
       "var x = new MutationObserver(function (mutations, observer) {{\n",
       "        var display = window.getComputedStyle(gd).display;\n",
       "        if (!display || display === 'none') {{\n",
       "            console.log([gd, 'removed!']);\n",
       "            Plotly.purge(gd);\n",
       "            observer.disconnect();\n",
       "        }}\n",
       "}});\n",
       "\n",
       "// Listen for the removal of the full notebook cells\n",
       "var notebookContainer = gd.closest('#notebook-container');\n",
       "if (notebookContainer) {{\n",
       "    x.observe(notebookContainer, {childList: true});\n",
       "}}\n",
       "\n",
       "// Listen for the clearing of the current output cell\n",
       "var outputEl = gd.closest('.output');\n",
       "if (outputEl) {{\n",
       "    x.observe(outputEl, {childList: true});\n",
       "}}\n",
       "\n",
       "                        })                };                });            </script>        </div>"
      ]
     },
     "metadata": {},
     "output_type": "display_data"
    }
   ],
   "source": [
    "import plotly_express as px\n",
    "fig = px.line(df_etl, x='dt', y=['main_temp', 'main_humidity'], title=f\"Main Tem & Humidity vs Time in {next(iter(set(df_etl.name)))}\")\n",
    "fig.show()"
   ]
  },
  {
   "cell_type": "code",
   "execution_count": 14,
   "id": "1224ed5a-ff87-45b0-bf8d-f9930a16c595",
   "metadata": {},
   "outputs": [
    {
     "data": {
      "image/png": "[encoded data removed]",
      "text/plain": [
       "<Figure size 640x480 with 1 Axes>"
      ]
     },
     "metadata": {},
     "output_type": "display_data"
    }
   ],
   "source": [
    "df_etl.main_temp.hist(bins=20)\n",
    "plt.title(f'Histogram of Main Temp in {next(iter(set(df_etl.name)))}')\n",
    "plt.grid()"
   ]
  },
  {
   "cell_type": "code",
   "execution_count": 19,
   "id": "862de5d6-2270-4540-a8fa-d2e404a2d3cf",
   "metadata": {},
   "outputs": [
    {
     "data": {
      "application/vnd.plotly.v1+json": {
       "config": {
        "plotlyServerURL": "https://plot.ly"
       },
       "data": [
        {
         "alignmentgroup": "True",
         "box": {
          "visible": false
         },
         "hovertemplate": "main_temp=%{x}<extra></extra>",
         "legendgroup": "",
         "marker": {
          "color": "#636efa"
         },
         "name": "",
         "offsetgroup": "",
         "orientation": "h",
         "scalegroup": "True",
         "showlegend": false,
         "type": "violin",
         "x": [
          8.53,
          8.66,
          8.53,
          8.53,
          8.53,
          8.66,
          5.53,
          5.53,
          5.53,
          7.53,
          7.66,
          7.53,
          15.53,
          15.66,
          18.66,
          18.53,
          18.66,
          18.66,
          20.53,
          20.66,
          20.66,
          21.66,
          21.53,
          8.53,
          8.66,
          11.66,
          11.66,
          14.53,
          14.66,
          16.53,
          16.53,
          9.66,
          9.53,
          9.66,
          9.53,
          9.66,
          9.53,
          8.53,
          8.53,
          8.53,
          8.53,
          8.53,
          8.53,
          8.53,
          8.53,
          7.66,
          7.53,
          13.53,
          13.53,
          13.53,
          13.53,
          13.53,
          14.66,
          14.53,
          14.53,
          17.66,
          17.66
         ],
         "x0": " ",
         "xaxis": "x",
         "y0": " ",
         "yaxis": "y"
        }
       ],
       "layout": {
        "autosize": true,
        "legend": {
         "tracegroupgap": 0
        },
        "template": {
         "data": {
          "bar": [
           {
            "error_x": {
             "color": "#2a3f5f"
            },
            "error_y": {
             "color": "#2a3f5f"
            },
            "marker": {
             "line": {
              "color": "#E5ECF6",
              "width": 0.5
             },
             "pattern": {
              "fillmode": "overlay",
              "size": 10,
              "solidity": 0.2
             }
            },
            "type": "bar"
           }
          ],
          "barpolar": [
           {
            "marker": {
             "line": {
              "color": "#E5ECF6",
              "width": 0.5
             },
             "pattern": {
              "fillmode": "overlay",
              "size": 10,
              "solidity": 0.2
             }
            },
            "type": "barpolar"
           }
          ],
          "carpet": [
           {
            "aaxis": {
             "endlinecolor": "#2a3f5f",
             "gridcolor": "white",
             "linecolor": "white",
             "minorgridcolor": "white",
             "startlinecolor": "#2a3f5f"
            },
            "baxis": {
             "endlinecolor": "#2a3f5f",
             "gridcolor": "white",
             "linecolor": "white",
             "minorgridcolor": "white",
             "startlinecolor": "#2a3f5f"
            },
            "type": "carpet"
           }
          ],
          "choropleth": [
           {
            "colorbar": {
             "outlinewidth": 0,
             "ticks": ""
            },
            "type": "choropleth"
           }
          ],
          "contour": [
           {
            "colorbar": {
             "outlinewidth": 0,
             "ticks": ""
            },
            "colorscale": [
             [
              0,
              "#0d0887"
             ],
             [
              0.1111111111111111,
              "#46039f"
             ],
             [
              0.2222222222222222,
              "#7201a8"
             ],
             [
              0.3333333333333333,
              "#9c179e"
             ],
             [
              0.4444444444444444,
              "#bd3786"
             ],
             [
              0.5555555555555556,
              "#d8576b"
             ],
             [
              0.6666666666666666,
              "#ed7953"
             ],
             [
              0.7777777777777778,
              "#fb9f3a"
             ],
             [
              0.8888888888888888,
              "#fdca26"
             ],
             [
              1,
              "#f0f921"
             ]
            ],
            "type": "contour"
           }
          ],
          "contourcarpet": [
           {
            "colorbar": {
             "outlinewidth": 0,
             "ticks": ""
            },
            "type": "contourcarpet"
           }
          ],
          "heatmap": [
           {
            "colorbar": {
             "outlinewidth": 0,
             "ticks": ""
            },
            "colorscale": [
             [
              0,
              "#0d0887"
             ],
             [
              0.1111111111111111,
              "#46039f"
             ],
             [
              0.2222222222222222,
              "#7201a8"
             ],
             [
              0.3333333333333333,
              "#9c179e"
             ],
             [
              0.4444444444444444,
              "#bd3786"
             ],
             [
              0.5555555555555556,
              "#d8576b"
             ],
             [
              0.6666666666666666,
              "#ed7953"
             ],
             [
              0.7777777777777778,
              "#fb9f3a"
             ],
             [
              0.8888888888888888,
              "#fdca26"
             ],
             [
              1,
              "#f0f921"
             ]
            ],
            "type": "heatmap"
           }
          ],
          "heatmapgl": [
           {
            "colorbar": {
             "outlinewidth": 0,
             "ticks": ""
            },
            "colorscale": [
             [
              0,
              "#0d0887"
             ],
             [
              0.1111111111111111,
              "#46039f"
             ],
             [
              0.2222222222222222,
              "#7201a8"
             ],
             [
              0.3333333333333333,
              "#9c179e"
             ],
             [
              0.4444444444444444,
              "#bd3786"
             ],
             [
              0.5555555555555556,
              "#d8576b"
             ],
             [
              0.6666666666666666,
              "#ed7953"
             ],
             [
              0.7777777777777778,
              "#fb9f3a"
             ],
             [
              0.8888888888888888,
              "#fdca26"
             ],
             [
              1,
              "#f0f921"
             ]
            ],
            "type": "heatmapgl"
           }
          ],
          "histogram": [
           {
            "marker": {
             "pattern": {
              "fillmode": "overlay",
              "size": 10,
              "solidity": 0.2
             }
            },
            "type": "histogram"
           }
          ],
          "histogram2d": [
           {
            "colorbar": {
             "outlinewidth": 0,
             "ticks": ""
            },
            "colorscale": [
             [
              0,
              "#0d0887"
             ],
             [
              0.1111111111111111,
              "#46039f"
             ],
             [
              0.2222222222222222,
              "#7201a8"
             ],
             [
              0.3333333333333333,
              "#9c179e"
             ],
             [
              0.4444444444444444,
              "#bd3786"
             ],
             [
              0.5555555555555556,
              "#d8576b"
             ],
             [
              0.6666666666666666,
              "#ed7953"
             ],
             [
              0.7777777777777778,
              "#fb9f3a"
             ],
             [
              0.8888888888888888,
              "#fdca26"
             ],
             [
              1,
              "#f0f921"
             ]
            ],
            "type": "histogram2d"
           }
          ],
          "histogram2dcontour": [
           {
            "colorbar": {
             "outlinewidth": 0,
             "ticks": ""
            },
            "colorscale": [
             [
              0,
              "#0d0887"
             ],
             [
              0.1111111111111111,
              "#46039f"
             ],
             [
              0.2222222222222222,
              "#7201a8"
             ],
             [
              0.3333333333333333,
              "#9c179e"
             ],
             [
              0.4444444444444444,
              "#bd3786"
             ],
             [
              0.5555555555555556,
              "#d8576b"
             ],
             [
              0.6666666666666666,
              "#ed7953"
             ],
             [
              0.7777777777777778,
              "#fb9f3a"
             ],
             [
              0.8888888888888888,
              "#fdca26"
             ],
             [
              1,
              "#f0f921"
             ]
            ],
            "type": "histogram2dcontour"
           }
          ],
          "mesh3d": [
           {
            "colorbar": {
             "outlinewidth": 0,
             "ticks": ""
            },
            "type": "mesh3d"
           }
          ],
          "parcoords": [
           {
            "line": {
             "colorbar": {
              "outlinewidth": 0,
              "ticks": ""
             }
            },
            "type": "parcoords"
           }
          ],
          "pie": [
           {
            "automargin": true,
            "type": "pie"
           }
          ],
          "scatter": [
           {
            "fillpattern": {
             "fillmode": "overlay",
             "size": 10,
             "solidity": 0.2
            },
            "type": "scatter"
           }
          ],
          "scatter3d": [
           {
            "line": {
             "colorbar": {
              "outlinewidth": 0,
              "ticks": ""
             }
            },
            "marker": {
             "colorbar": {
              "outlinewidth": 0,
              "ticks": ""
             }
            },
            "type": "scatter3d"
           }
          ],
          "scattercarpet": [
           {
            "marker": {
             "colorbar": {
              "outlinewidth": 0,
              "ticks": ""
             }
            },
            "type": "scattercarpet"
           }
          ],
          "scattergeo": [
           {
            "marker": {
             "colorbar": {
              "outlinewidth": 0,
              "ticks": ""
             }
            },
            "type": "scattergeo"
           }
          ],
          "scattergl": [
           {
            "marker": {
             "colorbar": {
              "outlinewidth": 0,
              "ticks": ""
             }
            },
            "type": "scattergl"
           }
          ],
          "scattermapbox": [
           {
            "marker": {
             "colorbar": {
              "outlinewidth": 0,
              "ticks": ""
             }
            },
            "type": "scattermapbox"
           }
          ],
          "scatterpolar": [
           {
            "marker": {
             "colorbar": {
              "outlinewidth": 0,
              "ticks": ""
             }
            },
            "type": "scatterpolar"
           }
          ],
          "scatterpolargl": [
           {
            "marker": {
             "colorbar": {
              "outlinewidth": 0,
              "ticks": ""
             }
            },
            "type": "scatterpolargl"
           }
          ],
          "scatterternary": [
           {
            "marker": {
             "colorbar": {
              "outlinewidth": 0,
              "ticks": ""
             }
            },
            "type": "scatterternary"
           }
          ],
          "surface": [
           {
            "colorbar": {
             "outlinewidth": 0,
             "ticks": ""
            },
            "colorscale": [
             [
              0,
              "#0d0887"
             ],
             [
              0.1111111111111111,
              "#46039f"
             ],
             [
              0.2222222222222222,
              "#7201a8"
             ],
             [
              0.3333333333333333,
              "#9c179e"
             ],
             [
              0.4444444444444444,
              "#bd3786"
             ],
             [
              0.5555555555555556,
              "#d8576b"
             ],
             [
              0.6666666666666666,
              "#ed7953"
             ],
             [
              0.7777777777777778,
              "#fb9f3a"
             ],
             [
              0.8888888888888888,
              "#fdca26"
             ],
             [
              1,
              "#f0f921"
             ]
            ],
            "type": "surface"
           }
          ],
          "table": [
           {
            "cells": {
             "fill": {
              "color": "#EBF0F8"
             },
             "line": {
              "color": "white"
             }
            },
            "header": {
             "fill": {
              "color": "#C8D4E3"
             },
             "line": {
              "color": "white"
             }
            },
            "type": "table"
           }
          ]
         },
         "layout": {
          "annotationdefaults": {
           "arrowcolor": "#2a3f5f",
           "arrowhead": 0,
           "arrowwidth": 1
          },
          "autotypenumbers": "strict",
          "coloraxis": {
           "colorbar": {
            "outlinewidth": 0,
            "ticks": ""
           }
          },
          "colorscale": {
           "diverging": [
            [
             0,
             "#8e0152"
            ],
            [
             0.1,
             "#c51b7d"
            ],
            [
             0.2,
             "#de77ae"
            ],
            [
             0.3,
             "#f1b6da"
            ],
            [
             0.4,
             "#fde0ef"
            ],
            [
             0.5,
             "#f7f7f7"
            ],
            [
             0.6,
             "#e6f5d0"
            ],
            [
             0.7,
             "#b8e186"
            ],
            [
             0.8,
             "#7fbc41"
            ],
            [
             0.9,
             "#4d9221"
            ],
            [
             1,
             "#276419"
            ]
           ],
           "sequential": [
            [
             0,
             "#0d0887"
            ],
            [
             0.1111111111111111,
             "#46039f"
            ],
            [
             0.2222222222222222,
             "#7201a8"
            ],
            [
             0.3333333333333333,
             "#9c179e"
            ],
            [
             0.4444444444444444,
             "#bd3786"
            ],
            [
             0.5555555555555556,
             "#d8576b"
            ],
            [
             0.6666666666666666,
             "#ed7953"
            ],
            [
             0.7777777777777778,
             "#fb9f3a"
            ],
            [
             0.8888888888888888,
             "#fdca26"
            ],
            [
             1,
             "#f0f921"
            ]
           ],
           "sequentialminus": [
            [
             0,
             "#0d0887"
            ],
            [
             0.1111111111111111,
             "#46039f"
            ],
            [
             0.2222222222222222,
             "#7201a8"
            ],
            [
             0.3333333333333333,
             "#9c179e"
            ],
            [
             0.4444444444444444,
             "#bd3786"
            ],
            [
             0.5555555555555556,
             "#d8576b"
            ],
            [
             0.6666666666666666,
             "#ed7953"
            ],
            [
             0.7777777777777778,
             "#fb9f3a"
            ],
            [
             0.8888888888888888,
             "#fdca26"
            ],
            [
             1,
             "#f0f921"
            ]
           ]
          },
          "colorway": [
           "#636efa",
           "#EF553B",
           "#00cc96",
           "#ab63fa",
           "#FFA15A",
           "#19d3f3",
           "#FF6692",
           "#B6E880",
           "#FF97FF",
           "#FECB52"
          ],
          "font": {
           "color": "#2a3f5f"
          },
          "geo": {
           "bgcolor": "white",
           "lakecolor": "white",
           "landcolor": "#E5ECF6",
           "showlakes": true,
           "showland": true,
           "subunitcolor": "white"
          },
          "hoverlabel": {
           "align": "left"
          },
          "hovermode": "closest",
          "mapbox": {
           "style": "light"
          },
          "paper_bgcolor": "white",
          "plot_bgcolor": "#E5ECF6",
          "polar": {
           "angularaxis": {
            "gridcolor": "white",
            "linecolor": "white",
            "ticks": ""
           },
           "bgcolor": "#E5ECF6",
           "radialaxis": {
            "gridcolor": "white",
            "linecolor": "white",
            "ticks": ""
           }
          },
          "scene": {
           "xaxis": {
            "backgroundcolor": "#E5ECF6",
            "gridcolor": "white",
            "gridwidth": 2,
            "linecolor": "white",
            "showbackground": true,
            "ticks": "",
            "zerolinecolor": "white"
           },
           "yaxis": {
            "backgroundcolor": "#E5ECF6",
            "gridcolor": "white",
            "gridwidth": 2,
            "linecolor": "white",
            "showbackground": true,
            "ticks": "",
            "zerolinecolor": "white"
           },
           "zaxis": {
            "backgroundcolor": "#E5ECF6",
            "gridcolor": "white",
            "gridwidth": 2,
            "linecolor": "white",
            "showbackground": true,
            "ticks": "",
            "zerolinecolor": "white"
           }
          },
          "shapedefaults": {
           "line": {
            "color": "#2a3f5f"
           }
          },
          "ternary": {
           "aaxis": {
            "gridcolor": "white",
            "linecolor": "white",
            "ticks": ""
           },
           "baxis": {
            "gridcolor": "white",
            "linecolor": "white",
            "ticks": ""
           },
           "bgcolor": "#E5ECF6",
           "caxis": {
            "gridcolor": "white",
            "linecolor": "white",
            "ticks": ""
           }
          },
          "title": {
           "x": 0.05
          },
          "xaxis": {
           "automargin": true,
           "gridcolor": "white",
           "linecolor": "white",
           "ticks": "",
           "title": {
            "standoff": 15
           },
           "zerolinecolor": "white",
           "zerolinewidth": 2
          },
          "yaxis": {
           "automargin": true,
           "gridcolor": "white",
           "linecolor": "white",
           "ticks": "",
           "title": {
            "standoff": 15
           },
           "zerolinecolor": "white",
           "zerolinewidth": 2
          }
         }
        },
        "title": {
         "text": "Violin Plot Main Temp in Quito"
        },
        "violinmode": "group",
        "xaxis": {
         "anchor": "y",
         "autorange": true,
         "domain": [
          0,
          1
         ],
         "range": [
          -0.23051250701942827,
          27.42051250701943
         ],
         "title": {
          "text": "main_temp"
         },
         "type": "linear"
        },
        "yaxis": {
         "anchor": "x",
         "autorange": true,
         "domain": [
          0,
          1
         ],
         "range": [
          -0.5,
          0.5
         ],
         "type": "category"
        }
       }
      },
      "image/png": "[encoded data removed]",
      "text/html": [
       "<div>                            <div id=\"aee5d1cd-b413-409c-a8f0-991c865da351\" class=\"plotly-graph-div\" style=\"height:525px; width:100%;\"></div>            <script type=\"text/javascript\">                require([\"plotly\"], function(Plotly) {                    window.PLOTLYENV=window.PLOTLYENV || {};                                    if (document.getElementById(\"aee5d1cd-b413-409c-a8f0-991c865da351\")) {                    Plotly.newPlot(                        \"aee5d1cd-b413-409c-a8f0-991c865da351\",                        [{\"alignmentgroup\":\"True\",\"box\":{\"visible\":false},\"hovertemplate\":\"main_temp=%{x}\\u003cextra\\u003e\\u003c\\u002fextra\\u003e\",\"legendgroup\":\"\",\"marker\":{\"color\":\"#636efa\"},\"name\":\"\",\"offsetgroup\":\"\",\"orientation\":\"h\",\"scalegroup\":\"True\",\"showlegend\":false,\"x\":[8.53,8.66,8.53,8.53,8.53,8.66,5.53,5.53,5.53,7.53,7.66,7.53,15.53,15.66,18.66,18.53,18.66,18.66,20.53,20.66,20.66,21.66,21.53,8.53,8.66,11.66,11.66,14.53,14.66,16.53,16.53,9.66,9.53,9.66,9.53,9.66,9.53,8.53,8.53,8.53,8.53,8.53,8.53,8.53,8.53,7.66,7.53,13.53,13.53,13.53,13.53,13.53,14.66,14.53,14.53,17.66,17.66],\"x0\":\" \",\"xaxis\":\"x\",\"y0\":\" \",\"yaxis\":\"y\",\"type\":\"violin\"}],                        {\"template\":{\"data\":{\"histogram2dcontour\":[{\"type\":\"histogram2dcontour\",\"colorbar\":{\"outlinewidth\":0,\"ticks\":\"\"},\"colorscale\":[[0.0,\"#0d0887\"],[0.1111111111111111,\"#46039f\"],[0.2222222222222222,\"#7201a8\"],[0.3333333333333333,\"#9c179e\"],[0.4444444444444444,\"#bd3786\"],[0.5555555555555556,\"#d8576b\"],[0.6666666666666666,\"#ed7953\"],[0.7777777777777778,\"#fb9f3a\"],[0.8888888888888888,\"#fdca26\"],[1.0,\"#f0f921\"]]}],\"choropleth\":[{\"type\":\"choropleth\",\"colorbar\":{\"outlinewidth\":0,\"ticks\":\"\"}}],\"histogram2d\":[{\"type\":\"histogram2d\",\"colorbar\":{\"outlinewidth\":0,\"ticks\":\"\"},\"colorscale\":[[0.0,\"#0d0887\"],[0.1111111111111111,\"#46039f\"],[0.2222222222222222,\"#7201a8\"],[0.3333333333333333,\"#9c179e\"],[0.4444444444444444,\"#bd3786\"],[0.5555555555555556,\"#d8576b\"],[0.6666666666666666,\"#ed7953\"],[0.7777777777777778,\"#fb9f3a\"],[0.8888888888888888,\"#fdca26\"],[1.0,\"#f0f921\"]]}],\"heatmap\":[{\"type\":\"heatmap\",\"colorbar\":{\"outlinewidth\":0,\"ticks\":\"\"},\"colorscale\":[[0.0,\"#0d0887\"],[0.1111111111111111,\"#46039f\"],[0.2222222222222222,\"#7201a8\"],[0.3333333333333333,\"#9c179e\"],[0.4444444444444444,\"#bd3786\"],[0.5555555555555556,\"#d8576b\"],[0.6666666666666666,\"#ed7953\"],[0.7777777777777778,\"#fb9f3a\"],[0.8888888888888888,\"#fdca26\"],[1.0,\"#f0f921\"]]}],\"heatmapgl\":[{\"type\":\"heatmapgl\",\"colorbar\":{\"outlinewidth\":0,\"ticks\":\"\"},\"colorscale\":[[0.0,\"#0d0887\"],[0.1111111111111111,\"#46039f\"],[0.2222222222222222,\"#7201a8\"],[0.3333333333333333,\"#9c179e\"],[0.4444444444444444,\"#bd3786\"],[0.5555555555555556,\"#d8576b\"],[0.6666666666666666,\"#ed7953\"],[0.7777777777777778,\"#fb9f3a\"],[0.8888888888888888,\"#fdca26\"],[1.0,\"#f0f921\"]]}],\"contourcarpet\":[{\"type\":\"contourcarpet\",\"colorbar\":{\"outlinewidth\":0,\"ticks\":\"\"}}],\"contour\":[{\"type\":\"contour\",\"colorbar\":{\"outlinewidth\":0,\"ticks\":\"\"},\"colorscale\":[[0.0,\"#0d0887\"],[0.1111111111111111,\"#46039f\"],[0.2222222222222222,\"#7201a8\"],[0.3333333333333333,\"#9c179e\"],[0.4444444444444444,\"#bd3786\"],[0.5555555555555556,\"#d8576b\"],[0.6666666666666666,\"#ed7953\"],[0.7777777777777778,\"#fb9f3a\"],[0.8888888888888888,\"#fdca26\"],[1.0,\"#f0f921\"]]}],\"surface\":[{\"type\":\"surface\",\"colorbar\":{\"outlinewidth\":0,\"ticks\":\"\"},\"colorscale\":[[0.0,\"#0d0887\"],[0.1111111111111111,\"#46039f\"],[0.2222222222222222,\"#7201a8\"],[0.3333333333333333,\"#9c179e\"],[0.4444444444444444,\"#bd3786\"],[0.5555555555555556,\"#d8576b\"],[0.6666666666666666,\"#ed7953\"],[0.7777777777777778,\"#fb9f3a\"],[0.8888888888888888,\"#fdca26\"],[1.0,\"#f0f921\"]]}],\"mesh3d\":[{\"type\":\"mesh3d\",\"colorbar\":{\"outlinewidth\":0,\"ticks\":\"\"}}],\"scatter\":[{\"fillpattern\":{\"fillmode\":\"overlay\",\"size\":10,\"solidity\":0.2},\"type\":\"scatter\"}],\"parcoords\":[{\"type\":\"parcoords\",\"line\":{\"colorbar\":{\"outlinewidth\":0,\"ticks\":\"\"}}}],\"scatterpolargl\":[{\"type\":\"scatterpolargl\",\"marker\":{\"colorbar\":{\"outlinewidth\":0,\"ticks\":\"\"}}}],\"bar\":[{\"error_x\":{\"color\":\"#2a3f5f\"},\"error_y\":{\"color\":\"#2a3f5f\"},\"marker\":{\"line\":{\"color\":\"#E5ECF6\",\"width\":0.5},\"pattern\":{\"fillmode\":\"overlay\",\"size\":10,\"solidity\":0.2}},\"type\":\"bar\"}],\"scattergeo\":[{\"type\":\"scattergeo\",\"marker\":{\"colorbar\":{\"outlinewidth\":0,\"ticks\":\"\"}}}],\"scatterpolar\":[{\"type\":\"scatterpolar\",\"marker\":{\"colorbar\":{\"outlinewidth\":0,\"ticks\":\"\"}}}],\"histogram\":[{\"marker\":{\"pattern\":{\"fillmode\":\"overlay\",\"size\":10,\"solidity\":0.2}},\"type\":\"histogram\"}],\"scattergl\":[{\"type\":\"scattergl\",\"marker\":{\"colorbar\":{\"outlinewidth\":0,\"ticks\":\"\"}}}],\"scatter3d\":[{\"type\":\"scatter3d\",\"line\":{\"colorbar\":{\"outlinewidth\":0,\"ticks\":\"\"}},\"marker\":{\"colorbar\":{\"outlinewidth\":0,\"ticks\":\"\"}}}],\"scattermapbox\":[{\"type\":\"scattermapbox\",\"marker\":{\"colorbar\":{\"outlinewidth\":0,\"ticks\":\"\"}}}],\"scatterternary\":[{\"type\":\"scatterternary\",\"marker\":{\"colorbar\":{\"outlinewidth\":0,\"ticks\":\"\"}}}],\"scattercarpet\":[{\"type\":\"scattercarpet\",\"marker\":{\"colorbar\":{\"outlinewidth\":0,\"ticks\":\"\"}}}],\"carpet\":[{\"aaxis\":{\"endlinecolor\":\"#2a3f5f\",\"gridcolor\":\"white\",\"linecolor\":\"white\",\"minorgridcolor\":\"white\",\"startlinecolor\":\"#2a3f5f\"},\"baxis\":{\"endlinecolor\":\"#2a3f5f\",\"gridcolor\":\"white\",\"linecolor\":\"white\",\"minorgridcolor\":\"white\",\"startlinecolor\":\"#2a3f5f\"},\"type\":\"carpet\"}],\"table\":[{\"cells\":{\"fill\":{\"color\":\"#EBF0F8\"},\"line\":{\"color\":\"white\"}},\"header\":{\"fill\":{\"color\":\"#C8D4E3\"},\"line\":{\"color\":\"white\"}},\"type\":\"table\"}],\"barpolar\":[{\"marker\":{\"line\":{\"color\":\"#E5ECF6\",\"width\":0.5},\"pattern\":{\"fillmode\":\"overlay\",\"size\":10,\"solidity\":0.2}},\"type\":\"barpolar\"}],\"pie\":[{\"automargin\":true,\"type\":\"pie\"}]},\"layout\":{\"autotypenumbers\":\"strict\",\"colorway\":[\"#636efa\",\"#EF553B\",\"#00cc96\",\"#ab63fa\",\"#FFA15A\",\"#19d3f3\",\"#FF6692\",\"#B6E880\",\"#FF97FF\",\"#FECB52\"],\"font\":{\"color\":\"#2a3f5f\"},\"hovermode\":\"closest\",\"hoverlabel\":{\"align\":\"left\"},\"paper_bgcolor\":\"white\",\"plot_bgcolor\":\"#E5ECF6\",\"polar\":{\"bgcolor\":\"#E5ECF6\",\"angularaxis\":{\"gridcolor\":\"white\",\"linecolor\":\"white\",\"ticks\":\"\"},\"radialaxis\":{\"gridcolor\":\"white\",\"linecolor\":\"white\",\"ticks\":\"\"}},\"ternary\":{\"bgcolor\":\"#E5ECF6\",\"aaxis\":{\"gridcolor\":\"white\",\"linecolor\":\"white\",\"ticks\":\"\"},\"baxis\":{\"gridcolor\":\"white\",\"linecolor\":\"white\",\"ticks\":\"\"},\"caxis\":{\"gridcolor\":\"white\",\"linecolor\":\"white\",\"ticks\":\"\"}},\"coloraxis\":{\"colorbar\":{\"outlinewidth\":0,\"ticks\":\"\"}},\"colorscale\":{\"sequential\":[[0.0,\"#0d0887\"],[0.1111111111111111,\"#46039f\"],[0.2222222222222222,\"#7201a8\"],[0.3333333333333333,\"#9c179e\"],[0.4444444444444444,\"#bd3786\"],[0.5555555555555556,\"#d8576b\"],[0.6666666666666666,\"#ed7953\"],[0.7777777777777778,\"#fb9f3a\"],[0.8888888888888888,\"#fdca26\"],[1.0,\"#f0f921\"]],\"sequentialminus\":[[0.0,\"#0d0887\"],[0.1111111111111111,\"#46039f\"],[0.2222222222222222,\"#7201a8\"],[0.3333333333333333,\"#9c179e\"],[0.4444444444444444,\"#bd3786\"],[0.5555555555555556,\"#d8576b\"],[0.6666666666666666,\"#ed7953\"],[0.7777777777777778,\"#fb9f3a\"],[0.8888888888888888,\"#fdca26\"],[1.0,\"#f0f921\"]],\"diverging\":[[0,\"#8e0152\"],[0.1,\"#c51b7d\"],[0.2,\"#de77ae\"],[0.3,\"#f1b6da\"],[0.4,\"#fde0ef\"],[0.5,\"#f7f7f7\"],[0.6,\"#e6f5d0\"],[0.7,\"#b8e186\"],[0.8,\"#7fbc41\"],[0.9,\"#4d9221\"],[1,\"#276419\"]]},\"xaxis\":{\"gridcolor\":\"white\",\"linecolor\":\"white\",\"ticks\":\"\",\"title\":{\"standoff\":15},\"zerolinecolor\":\"white\",\"automargin\":true,\"zerolinewidth\":2},\"yaxis\":{\"gridcolor\":\"white\",\"linecolor\":\"white\",\"ticks\":\"\",\"title\":{\"standoff\":15},\"zerolinecolor\":\"white\",\"automargin\":true,\"zerolinewidth\":2},\"scene\":{\"xaxis\":{\"backgroundcolor\":\"#E5ECF6\",\"gridcolor\":\"white\",\"linecolor\":\"white\",\"showbackground\":true,\"ticks\":\"\",\"zerolinecolor\":\"white\",\"gridwidth\":2},\"yaxis\":{\"backgroundcolor\":\"#E5ECF6\",\"gridcolor\":\"white\",\"linecolor\":\"white\",\"showbackground\":true,\"ticks\":\"\",\"zerolinecolor\":\"white\",\"gridwidth\":2},\"zaxis\":{\"backgroundcolor\":\"#E5ECF6\",\"gridcolor\":\"white\",\"linecolor\":\"white\",\"showbackground\":true,\"ticks\":\"\",\"zerolinecolor\":\"white\",\"gridwidth\":2}},\"shapedefaults\":{\"line\":{\"color\":\"#2a3f5f\"}},\"annotationdefaults\":{\"arrowcolor\":\"#2a3f5f\",\"arrowhead\":0,\"arrowwidth\":1},\"geo\":{\"bgcolor\":\"white\",\"landcolor\":\"#E5ECF6\",\"subunitcolor\":\"white\",\"showland\":true,\"showlakes\":true,\"lakecolor\":\"white\"},\"title\":{\"x\":0.05},\"mapbox\":{\"style\":\"light\"}}},\"xaxis\":{\"anchor\":\"y\",\"domain\":[0.0,1.0],\"title\":{\"text\":\"main_temp\"}},\"yaxis\":{\"anchor\":\"x\",\"domain\":[0.0,1.0]},\"legend\":{\"tracegroupgap\":0},\"title\":{\"text\":\"Violin Plot Main Temp in Quito\"},\"violinmode\":\"group\"},                        {\"responsive\": true}                    ).then(function(){\n",
       "                            \n",
       "var gd = document.getElementById('aee5d1cd-b413-409c-a8f0-991c865da351');\n",
       "var x = new MutationObserver(function (mutations, observer) {{\n",
       "        var display = window.getComputedStyle(gd).display;\n",
       "        if (!display || display === 'none') {{\n",
       "            console.log([gd, 'removed!']);\n",
       "            Plotly.purge(gd);\n",
       "            observer.disconnect();\n",
       "        }}\n",
       "}});\n",
       "\n",
       "// Listen for the removal of the full notebook cells\n",
       "var notebookContainer = gd.closest('#notebook-container');\n",
       "if (notebookContainer) {{\n",
       "    x.observe(notebookContainer, {childList: true});\n",
       "}}\n",
       "\n",
       "// Listen for the clearing of the current output cell\n",
       "var outputEl = gd.closest('.output');\n",
       "if (outputEl) {{\n",
       "    x.observe(outputEl, {childList: true});\n",
       "}}\n",
       "\n",
       "                        })                };                });            </script>        </div>"
      ]
     },
     "metadata": {},
     "output_type": "display_data"
    }
   ],
   "source": [
    "fig = px.violin(df_etl, 'main_temp', title=f\"Violin Plot Main Temp in {next(iter(set(df_etl.name)))}\")\n",
    "fig.show()"
   ]
  }
 ],
 "metadata": {
  "kernelspec": {
   "display_name": "Python 3 (ipykernel)",
   "language": "python",
   "name": "python3"
  },
  "language_info": {
   "codemirror_mode": {
    "name": "ipython",
    "version": 3
   },
   "file_extension": ".py",
   "mimetype": "text/x-python",
   "name": "python",
   "nbconvert_exporter": "python",
   "pygments_lexer": "ipython3",
   "version": "3.9.18"
  }
 },
 "nbformat": 4,
 "nbformat_minor": 5
}
